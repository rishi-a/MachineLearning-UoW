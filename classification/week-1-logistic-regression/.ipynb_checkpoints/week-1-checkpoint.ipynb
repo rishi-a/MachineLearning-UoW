{
 "cells": [
  {
   "cell_type": "markdown",
   "metadata": {},
   "source": [
    "#### Classifier Using Logistic Regression"
   ]
  },
  {
   "cell_type": "code",
   "execution_count": 1,
   "metadata": {},
   "outputs": [],
   "source": [
    "import pandas as pd\n",
    "import numpy as np\n",
    "import matplotlib.pyplot as plt"
   ]
  },
  {
   "cell_type": "code",
   "execution_count": 16,
   "metadata": {},
   "outputs": [
    {
     "data": {
      "text/html": [
       "<div>\n",
       "<style scoped>\n",
       "    .dataframe tbody tr th:only-of-type {\n",
       "        vertical-align: middle;\n",
       "    }\n",
       "\n",
       "    .dataframe tbody tr th {\n",
       "        vertical-align: top;\n",
       "    }\n",
       "\n",
       "    .dataframe thead th {\n",
       "        text-align: right;\n",
       "    }\n",
       "</style>\n",
       "<table border=\"1\" class=\"dataframe\">\n",
       "  <thead>\n",
       "    <tr style=\"text-align: right;\">\n",
       "      <th></th>\n",
       "      <th>name</th>\n",
       "      <th>review</th>\n",
       "      <th>rating</th>\n",
       "    </tr>\n",
       "  </thead>\n",
       "  <tbody>\n",
       "    <tr>\n",
       "      <td>0</td>\n",
       "      <td>Planetwise Flannel Wipes</td>\n",
       "      <td>These flannel wipes are OK, but in my opinion ...</td>\n",
       "      <td>3</td>\n",
       "    </tr>\n",
       "    <tr>\n",
       "      <td>1</td>\n",
       "      <td>Planetwise Wipe Pouch</td>\n",
       "      <td>it came early and was not disappointed. i love...</td>\n",
       "      <td>5</td>\n",
       "    </tr>\n",
       "    <tr>\n",
       "      <td>2</td>\n",
       "      <td>Annas Dream Full Quilt with 2 Shams</td>\n",
       "      <td>Very soft and comfortable and warmer than it l...</td>\n",
       "      <td>5</td>\n",
       "    </tr>\n",
       "    <tr>\n",
       "      <td>3</td>\n",
       "      <td>Stop Pacifier Sucking without tears with Thumb...</td>\n",
       "      <td>This is a product well worth the purchase.  I ...</td>\n",
       "      <td>5</td>\n",
       "    </tr>\n",
       "    <tr>\n",
       "      <td>4</td>\n",
       "      <td>Stop Pacifier Sucking without tears with Thumb...</td>\n",
       "      <td>All of my kids have cried non-stop when I trie...</td>\n",
       "      <td>5</td>\n",
       "    </tr>\n",
       "  </tbody>\n",
       "</table>\n",
       "</div>"
      ],
      "text/plain": [
       "                                                name  \\\n",
       "0                           Planetwise Flannel Wipes   \n",
       "1                              Planetwise Wipe Pouch   \n",
       "2                Annas Dream Full Quilt with 2 Shams   \n",
       "3  Stop Pacifier Sucking without tears with Thumb...   \n",
       "4  Stop Pacifier Sucking without tears with Thumb...   \n",
       "\n",
       "                                              review  rating  \n",
       "0  These flannel wipes are OK, but in my opinion ...       3  \n",
       "1  it came early and was not disappointed. i love...       5  \n",
       "2  Very soft and comfortable and warmer than it l...       5  \n",
       "3  This is a product well worth the purchase.  I ...       5  \n",
       "4  All of my kids have cried non-stop when I trie...       5  "
      ]
     },
     "execution_count": 16,
     "metadata": {},
     "output_type": "execute_result"
    }
   ],
   "source": [
    "products = pd.read_csv('amazon_baby.csv')\n",
    "products.head()"
   ]
  },
  {
   "cell_type": "code",
   "execution_count": 17,
   "metadata": {},
   "outputs": [],
   "source": [
    "products = products.fillna({'review':''})  # fill in N/A's in the review column\n",
    "# convert column \"a\" to int64 dtype and \"b\" to complex type\n",
    "products = products.astype({\"review\": str})"
   ]
  },
  {
   "cell_type": "code",
   "execution_count": 18,
   "metadata": {},
   "outputs": [],
   "source": [
    "def remove_punctuation(text):\n",
    "    import string\n",
    "    return text.translate(text.maketrans('', '', string.punctuation))\n",
    "\n",
    "products['review_clean'] = products['review'].apply(remove_punctuation)"
   ]
  },
  {
   "cell_type": "code",
   "execution_count": 19,
   "metadata": {},
   "outputs": [],
   "source": [
    "#We will ignore all reviews with rating = 3, since they tend to have a neutral sentiment. In SFrame, for instance,\n",
    "products = products[products['rating'] != 3]"
   ]
  },
  {
   "cell_type": "code",
   "execution_count": 20,
   "metadata": {},
   "outputs": [],
   "source": [
    "#Now, we will assign reviews with a rating of 4 or higher to be positive reviews, while the ones with rating of 2 or lower are negative.\n",
    "products['sentiment'] = products['rating'].apply(lambda rating : +1 if rating > 3 else -1)"
   ]
  },
  {
   "cell_type": "code",
   "execution_count": 21,
   "metadata": {},
   "outputs": [
    {
     "data": {
      "text/html": [
       "<div>\n",
       "<style scoped>\n",
       "    .dataframe tbody tr th:only-of-type {\n",
       "        vertical-align: middle;\n",
       "    }\n",
       "\n",
       "    .dataframe tbody tr th {\n",
       "        vertical-align: top;\n",
       "    }\n",
       "\n",
       "    .dataframe thead th {\n",
       "        text-align: right;\n",
       "    }\n",
       "</style>\n",
       "<table border=\"1\" class=\"dataframe\">\n",
       "  <thead>\n",
       "    <tr style=\"text-align: right;\">\n",
       "      <th></th>\n",
       "      <th>name</th>\n",
       "      <th>review</th>\n",
       "      <th>rating</th>\n",
       "      <th>review_clean</th>\n",
       "      <th>sentiment</th>\n",
       "    </tr>\n",
       "  </thead>\n",
       "  <tbody>\n",
       "    <tr>\n",
       "      <td>1</td>\n",
       "      <td>Planetwise Wipe Pouch</td>\n",
       "      <td>it came early and was not disappointed. i love...</td>\n",
       "      <td>5</td>\n",
       "      <td>it came early and was not disappointed i love ...</td>\n",
       "      <td>1</td>\n",
       "    </tr>\n",
       "  </tbody>\n",
       "</table>\n",
       "</div>"
      ],
      "text/plain": [
       "                    name                                             review  \\\n",
       "1  Planetwise Wipe Pouch  it came early and was not disappointed. i love...   \n",
       "\n",
       "   rating                                       review_clean  sentiment  \n",
       "1       5  it came early and was not disappointed i love ...          1  "
      ]
     },
     "execution_count": 21,
     "metadata": {},
     "output_type": "execute_result"
    }
   ],
   "source": [
    "products.head(1)"
   ]
  },
  {
   "cell_type": "code",
   "execution_count": 31,
   "metadata": {},
   "outputs": [],
   "source": [
    "# split into train and test\n",
    "# load the given data\n",
    "trainidx = pd.read_json('module-2-assignment-train-idx.json')\n",
    "trainidx[0] = trainidx[0] + 1 \n",
    "testidx  = pd.read_json('module-2-assignment-test-idx.json')\n",
    "testidx[0] = testidx[0] + 1 "
   ]
  },
  {
   "cell_type": "code",
   "execution_count": 41,
   "metadata": {},
   "outputs": [],
   "source": [
    "train_data = pd.merge(trainidx, products, left_on=0, right_on=products.index)"
   ]
  },
  {
   "cell_type": "code",
   "execution_count": 43,
   "metadata": {},
   "outputs": [],
   "source": [
    "test_data = pd.merge(testidx, products, left_on=0, right_on=products.index)"
   ]
  },
  {
   "cell_type": "code",
   "execution_count": null,
   "metadata": {},
   "outputs": [],
   "source": [
    "# Text to vector conversion"
   ]
  },
  {
   "cell_type": "code",
   "execution_count": 45,
   "metadata": {},
   "outputs": [],
   "source": [
    "from sklearn.feature_extraction.text import CountVectorizer\n",
    "\n",
    "vectorizer = CountVectorizer(token_pattern=r'\\b\\w+\\b')\n",
    "# Use this token pattern to keep single-letter words\n",
    "# First, learn vocabulary from the training data and assign columns to words\n",
    "# Then convert the training data into a sparse matrix\n",
    "train_matrix = vectorizer.fit_transform(train_data['review_clean'])\n",
    "# Second, convert the test data into a sparse matrix, using the same word-column mapping\n",
    "test_matrix = vectorizer.transform(test_data['review_clean'])"
   ]
  },
  {
   "cell_type": "code",
   "execution_count": null,
   "metadata": {},
   "outputs": [],
   "source": [
    "# Train a classifier"
   ]
  },
  {
   "cell_type": "code",
   "execution_count": 48,
   "metadata": {},
   "outputs": [
    {
     "name": "stderr",
     "output_type": "stream",
     "text": [
      "C:\\ProgramData\\Anaconda3\\lib\\site-packages\\sklearn\\linear_model\\logistic.py:433: FutureWarning: Default solver will be changed to 'lbfgs' in 0.22. Specify a solver to silence this warning.\n",
      "  FutureWarning)\n",
      "C:\\ProgramData\\Anaconda3\\lib\\site-packages\\sklearn\\svm\\base.py:922: ConvergenceWarning: Liblinear failed to converge, increase the number of iterations.\n",
      "  \"the number of iterations.\", ConvergenceWarning)\n"
     ]
    }
   ],
   "source": [
    "from sklearn.linear_model import LogisticRegression\n",
    "sentiment_model = LogisticRegression().fit(train_matrix, train_data['sentiment'])"
   ]
  },
  {
   "cell_type": "code",
   "execution_count": 52,
   "metadata": {},
   "outputs": [
    {
     "data": {
      "text/plain": [
       "(1, 113092)"
      ]
     },
     "execution_count": 52,
     "metadata": {},
     "output_type": "execute_result"
    }
   ],
   "source": [
    "#here should be over 100,000 coefficients in this sentiment_model. \n",
    "#Recall from the lecture that positive weights w_j correspond to weights that cause positive sentiment, \n",
    "#while negative weights correspond to negative sentiment. Calculate the number of positive \n",
    "#(>= 0, which is actually nonnegative) coefficients\n",
    "sentiment_model.coef_.shape"
   ]
  },
  {
   "cell_type": "code",
   "execution_count": 66,
   "metadata": {},
   "outputs": [
    {
     "data": {
      "text/plain": [
       "array([1.37357778])"
      ]
     },
     "execution_count": 66,
     "metadata": {},
     "output_type": "execute_result"
    }
   ],
   "source": [
    "sentiment_model.intercept_"
   ]
  },
  {
   "cell_type": "markdown",
   "metadata": {},
   "source": [
    "#### Quiz question: How many weights are >= 0?"
   ]
  },
  {
   "cell_type": "code",
   "execution_count": 65,
   "metadata": {},
   "outputs": [
    {
     "data": {
      "text/plain": [
       "80328"
      ]
     },
     "execution_count": 65,
     "metadata": {},
     "output_type": "execute_result"
    }
   ],
   "source": [
    "\n",
    "sum(1 for item in sentiment_model.coef_[0] if item >= 0)"
   ]
  },
  {
   "cell_type": "code",
   "execution_count": 76,
   "metadata": {},
   "outputs": [],
   "source": [
    "#Making predictions with logistic regression\n",
    "sample_test_data = test_data[10:13]\n"
   ]
  },
  {
   "cell_type": "code",
   "execution_count": 77,
   "metadata": {},
   "outputs": [
    {
     "data": {
      "text/html": [
       "<div>\n",
       "<style scoped>\n",
       "    .dataframe tbody tr th:only-of-type {\n",
       "        vertical-align: middle;\n",
       "    }\n",
       "\n",
       "    .dataframe tbody tr th {\n",
       "        vertical-align: top;\n",
       "    }\n",
       "\n",
       "    .dataframe thead th {\n",
       "        text-align: right;\n",
       "    }\n",
       "</style>\n",
       "<table border=\"1\" class=\"dataframe\">\n",
       "  <thead>\n",
       "    <tr style=\"text-align: right;\">\n",
       "      <th></th>\n",
       "      <th>0</th>\n",
       "      <th>name</th>\n",
       "      <th>review</th>\n",
       "      <th>rating</th>\n",
       "      <th>review_clean</th>\n",
       "      <th>sentiment</th>\n",
       "    </tr>\n",
       "  </thead>\n",
       "  <tbody>\n",
       "    <tr>\n",
       "      <td>10</td>\n",
       "      <td>54</td>\n",
       "      <td>Baby's First Year Undated Wall Calendar with S...</td>\n",
       "      <td>A friend bought me this calendar when our daug...</td>\n",
       "      <td>5</td>\n",
       "      <td>A friend bought me this calendar when our daug...</td>\n",
       "      <td>1</td>\n",
       "    </tr>\n",
       "    <tr>\n",
       "      <td>11</td>\n",
       "      <td>65</td>\n",
       "      <td>My Kindergarten Year - A Keepsake Book</td>\n",
       "      <td>I was pleasantly surprised upon receiving the ...</td>\n",
       "      <td>5</td>\n",
       "      <td>I was pleasantly surprised upon receiving the ...</td>\n",
       "      <td>1</td>\n",
       "    </tr>\n",
       "    <tr>\n",
       "      <td>12</td>\n",
       "      <td>83</td>\n",
       "      <td>Cloth Diaper Pins Stainless Steel Traditional ...</td>\n",
       "      <td>As another reviewer noted, these are great for...</td>\n",
       "      <td>5</td>\n",
       "      <td>As another reviewer noted these are great for ...</td>\n",
       "      <td>1</td>\n",
       "    </tr>\n",
       "  </tbody>\n",
       "</table>\n",
       "</div>"
      ],
      "text/plain": [
       "     0                                               name  \\\n",
       "10  54  Baby's First Year Undated Wall Calendar with S...   \n",
       "11  65             My Kindergarten Year - A Keepsake Book   \n",
       "12  83  Cloth Diaper Pins Stainless Steel Traditional ...   \n",
       "\n",
       "                                               review  rating  \\\n",
       "10  A friend bought me this calendar when our daug...       5   \n",
       "11  I was pleasantly surprised upon receiving the ...       5   \n",
       "12  As another reviewer noted, these are great for...       5   \n",
       "\n",
       "                                         review_clean  sentiment  \n",
       "10  A friend bought me this calendar when our daug...          1  \n",
       "11  I was pleasantly surprised upon receiving the ...          1  \n",
       "12  As another reviewer noted these are great for ...          1  "
      ]
     },
     "execution_count": 77,
     "metadata": {},
     "output_type": "execute_result"
    }
   ],
   "source": [
    "sample_test_data"
   ]
  },
  {
   "cell_type": "code",
   "execution_count": 90,
   "metadata": {},
   "outputs": [
    {
     "data": {
      "text/plain": [
       "array([1, 1, 1], dtype=int64)"
      ]
     },
     "execution_count": 90,
     "metadata": {},
     "output_type": "execute_result"
    }
   ],
   "source": [
    "sentiment_model.predict(test_matrix[10:13])"
   ]
  },
  {
   "cell_type": "code",
   "execution_count": 83,
   "metadata": {},
   "outputs": [
    {
     "name": "stdout",
     "output_type": "stream",
     "text": [
      "[ 5.5781005   6.74978895 11.42518643]\n"
     ]
    }
   ],
   "source": [
    "sample_test_matrix = vectorizer.transform(sample_test_data['review_clean'])\n",
    "scores = sentiment_model.decision_function(sample_test_matrix)\n",
    "print(scores)"
   ]
  },
  {
   "cell_type": "code",
   "execution_count": 89,
   "metadata": {},
   "outputs": [
    {
     "data": {
      "text/plain": [
       "[1, 1, 1]"
      ]
     },
     "execution_count": 89,
     "metadata": {},
     "output_type": "execute_result"
    }
   ],
   "source": [
    "[1 if item>0 else 0 for item in scores]"
   ]
  },
  {
   "cell_type": "code",
   "execution_count": null,
   "metadata": {},
   "outputs": [],
   "source": [
    "# observe the match in the result above"
   ]
  },
  {
   "cell_type": "markdown",
   "metadata": {},
   "source": [
    "#### Quiz question: Of the three data points in sample_test_data, which one (first, second, or third) has the lowest probability of being classified as a positive review?"
   ]
  },
  {
   "cell_type": "code",
   "execution_count": 91,
   "metadata": {},
   "outputs": [
    {
     "name": "stdout",
     "output_type": "stream",
     "text": [
      "[3.76550569e-03 1.16975683e-03 1.09169127e-05]\n"
     ]
    }
   ],
   "source": [
    "#Probability Predictions\n",
    "p = 1/(1+np.exp(scores))\n",
    "print(p)\n"
   ]
  },
  {
   "cell_type": "code",
   "execution_count": 92,
   "metadata": {},
   "outputs": [
    {
     "data": {
      "text/plain": [
       "1.0916912745168289e-05"
      ]
     },
     "execution_count": 92,
     "metadata": {},
     "output_type": "execute_result"
    }
   ],
   "source": [
    "#Answer: third\n",
    "min(p)"
   ]
  },
  {
   "cell_type": "code",
   "execution_count": 115,
   "metadata": {},
   "outputs": [],
   "source": [
    "# Find the most positive (and negative) review\n",
    "#We now turn to examining the full test dataset, test_data, and use sklearn.linear_model.LogisticRegression \n",
    "#to form predictions on all of the test data points.\n",
    "scores_test = sentiment_model.decision_function(test_matrix)\n",
    "p_test = 1/(1+np.exp(scores_test))"
   ]
  },
  {
   "cell_type": "code",
   "execution_count": 116,
   "metadata": {},
   "outputs": [
    {
     "data": {
      "text/plain": [
       "array([1.17078810e-01, 1.13057479e-06, 4.70049081e-04, ...,\n",
       "       2.13327001e-01, 9.67594855e-01, 3.37800997e-01])"
      ]
     },
     "execution_count": 116,
     "metadata": {},
     "output_type": "execute_result"
    }
   ],
   "source": [
    "#Using the sentiment_model, find the 20 reviews in the entire test_data with the highest probability\n",
    "#of being classified as a positive review. We refer to these as the \"most positive reviews.\"\n",
    "p_test"
   ]
  },
  {
   "cell_type": "code",
   "execution_count": 117,
   "metadata": {},
   "outputs": [],
   "source": [
    "indicesTest = np.argsort(p_test)"
   ]
  },
  {
   "cell_type": "code",
   "execution_count": 121,
   "metadata": {},
   "outputs": [
    {
     "data": {
      "text/plain": [
       "array([10763, 21884, 14285, 24456, 23756, 20648, 26403, 21203, 26491,\n",
       "       13780,  8677, 12064, 25501, 23914,  6962,  5027, 10381, 16261,\n",
       "        1891, 15749], dtype=int64)"
      ]
     },
     "execution_count": 121,
     "metadata": {},
     "output_type": "execute_result"
    }
   ],
   "source": [
    "# reviews with following indices are the top 20 reviews having highest probability\n",
    "indicesTest[-20:]"
   ]
  },
  {
   "cell_type": "markdown",
   "metadata": {},
   "source": [
    "#### Quiz Question: Which of the following products are represented in the 20 most positive reviews?"
   ]
  },
  {
   "cell_type": "code",
   "execution_count": 122,
   "metadata": {},
   "outputs": [],
   "source": [
    "# depends on the options but let us merge with test_data having reviews\n",
    "highest_probability_indices = pd.DataFrame(indicesTest[-20:])"
   ]
  },
  {
   "cell_type": "code",
   "execution_count": 138,
   "metadata": {},
   "outputs": [
    {
     "name": "stdout",
     "output_type": "stream",
     "text": [
      "This is basically an overpriced piece of fabric. All you get is a square sewn to four fabric \"straps\" and you do all the work. It is tedious, hard, annoying, dangerous because you CANNOT do it alone, someone has to hold the baby and/or tie the damn thing around you, and you basically have to do this operation on a bed cause you might drop the baby, it happened a couple of times to us. Then, after this time-consuming frustrating sweaty experience, once the baby is \"on\" it's really uncomfortable, it breaks your back and if you just want to get the baby out for a few moments and back inside it's plain impossible. Just buy a backpack carrier, we did that and regreted so much buying this \"hip-looking\" overpriced piece of junk! They should be sued, seriously!!! Oh, and hope that your baby doesn't start crying and kicking through the process, if he does, then it's easier to tie a bobcat around you, i swear!\n",
      "\n",
      "\n",
      "Assembly wasn't too terrible - took about an hour. However, the anchors included in the packaging were not strong enough to hold the gate in the wall. We initially screwed the bottom pieces into the trim, but that actually caused the trim to crack - within minutes of hanging it. We ripped off the trim, then anchored the gate into the wall, but that also didn't work. Within the two days we used this gate, the anchors completely ripped out of the wall at the pivot point. This is probably because of the weight of the gate and the weakness of the wall at the corner. If you're lucky enough to have a stud exactly where you want to hang it, you may not run into this problem. I wouldn't risk hanging this gate with the included anchors when the weight of the gate alone can't be held by them. Imagine if it's a child pulling/leaning too?It would have been helpful to have the dimensions of the space between the bars before purchase. (Sorry - I wasn't smart enough to measure this before we returned it!) Our dog learned to squeeze through the bars the first day we had it. Since it also wouldn't physically stay attached to the wall without modification, we ended up returning the gate. Kind of wish I hadn't ripped that trim off now!\n",
      "\n",
      "\n",
      "I initially thought this was a very sturdy, long-lasting stroller.  I had to have it replaced (through the retailer, who apparently ate the cost) once because of a defective wheel.  It wasn't long before I realized the basket on the new stroller was defective, unusable.  I have tried for months to get it replaced through the company, which is located in Canada. When they finally responded to emails, they expected me to pay to have it shipped to Canada, wait for several weeks until they could find someone to repair it and ship it back as they \"don't keep them in stock\".  I explained to them I was trying to just have the basket replaced rather than the whole stroller in an effort to not waste resources.  They apparently don't care about that.  I then explained it is not the responsibity of the customer to have to pay to have a defective part replaced and told them I will be having the whole stroller replaced - again.  They promised to replace the basket.  That was almost a month ago.  I emailed again, as usual they don't respond.  I contacted the retailer a few times, they tried several times to get through to the company but got no answer (?!).  They confessed they are bewildered by the lack of customer service, even to retailers and cited comparisons to other stroller companies that \"are right there\".  The problem with Tike Tech company is they are capable of creating a good stroller, but they don't seem to have any quality control so defective products go out the door.  Since they don't have a working customer support, and no incentive to keep customers, there is no way to remedy these defects.  According to the retailer, they are out of touch with the customer.  I make this clear as it inevitably means this company is heading towards closure and you'll be stuck with a potentially unsafe stroller.\n",
      "\n",
      "\n",
      "I am returning this product, but before I get to why I am returning it...I want to clear up a few misconceptions.  It is very clear that many users did NOT read the directions.There are three ways to use this monitor.1. With video and sound on at all times (Yes, It will drain the battery quickly).2. With video turning off after 3 minutes of no sound above 60 dB (Therefore, conserving battery by not continually showing the video).  *It will turn back on if it senses loud sounds (baby crying, yelling).3. With video AND sound off - only turning on when there are loud sounds heard. (This is what other monitors call &#34;sleep mode&#34;...so that the parents aren't hearing the baby moving around in the crib...only the sounds that need to be heard at night).If you're having problems with no sound, or not video, or it cutting in and out.  READ THE DIRECTIONS.Now.....why am I returning it?1. There is a constant &#34;hum&#34; and &#34;crackling&#34; sound coming from the parent unit.  It didn't matter that I turned off my wifi.  It continued to happen.  I know a lot of users complained that this messed up their wifi...well I don't know if mine did or not. I even followed the directions in the manual to fix the problem. I can tell you that it continued to happen despite my router being turned off.  And it didn't matter how close or far away I was from the camera with the parent unit, so it wasn't a reception problem either.2.  The video quality wasn't as good as I expected.  There was a lot of &#34;noise&#34;....you photographer people will understand.3.  Even on the highest volume setting - it was hard to hear my daughter.  The high setting on this monitor compared to low-medium volume setting of my old monitor.4.  The manual states to point the antennae down if you have this monitor on a higher floor.  That way it's always pointed down toward the below floors where you most likely will be with the parent unit.  Well now you can't turn the camera on and off.  The antennae blocks it.5.  It's light weight and cheap feeling.  I have a feeling that if my toddler accidentally got a hold of it once...it'd be toast.  My other monitor parent unit has been abused by my toddler and it's still going fine.I REALLY wanted to love this monitor.  You get what you pay for I guess.  I'm bummed.\n",
      "\n",
      "\n",
      "I can only echo what others have written here.  I had a horrible experience with Argington.  Everything was backordered, which was not disclosed when I made my purchase.  I had to beg them to ship every item---I barely had the crib in time for my baby, despite having placed the order more than three months early.  Some items I didn't have even nine months later, when after months and months of them promising to ship the items to me (always with me inquiring---where's my stuff?  no one from their end ever bothered to contact me with an update), I finally only got a refund when I threatened to take them to small claims court.  How, with a good conscience, do you sell items that you can't deliver to customers?  Also, the quality was shoddy.  To give them credit, they did replace one particularly poorly made item, but still---I expected better.  From a customer service perspective, though, steer clear at all costs.  You may never get what you've paid for.  As another user said, I wanted to like this company very much.  Yet I think that in my entire adult life, I've never been as poorly treated as I was by them.Of particular note, one of the main reasons why I purchased the product (besides the general \"green\" design) was the convertibility to a toddler crib.  After nine months, however, I have given up hope on getting them to ship me the conversion kit.  Which makes it all a huge sham, and defeats the whole point of my purchase.\n",
      "\n",
      "\n",
      "DO NOT BUY THIS BABY MONITOR!I purchased this monitor in February and after only two months of use the video camera stopped working.  Since it was under warranty, I contacted Motorola and started the warranty process.  I was told it would be 24 hours and I would receive an email on where and how to send the non-working monitor back.  It took six days and two additional phone calls just to get that information.  After sending it back, I contacted the motorola representative by email to let her know that the monitor had been returned and based on my tracking information it had been received by them two days prior.  She asked for the tracking number which I emailed to her that same day.  I then waited for seven days and never received a return email.  I emailed her again and asked for an ETA on my new monitor and still never recieved a response.  I then called Motorola again and was told that the replacement monitors were on back order and it would be at least six to eight weeks before they would be in.  Then the motorola representative explaned to me that they were being shipped from Korea and that was a really long way from the US.  Now she had really made me mad!  I called again and finally spoke to someone who knew what was going on and she told me that they should have sent me out a different model as a temporary replacement until the others came in and that she would get one sent out that day.  Funny thing is, is that when I finally recieved the monitor in the mail, it was the same model that they claimed was on backorder.Well, now here we are less than a month and a half since I recieved my replacement monitor and now the parent unit has stopped charging.  We can't even use it plugged in.  It seems as though the charging cord and the monitor itself are not connecting.  So, here I am with another non-working baby monitor.  I think I have spent more time without this monitor working than the amount of time I have actually had it working.  I am very dissapointed in the quality of this product and the customer service that Motorola has provided.  I am currently waiting for a call back from the representative I spoke to this morning, so I will see how it goes this time around.\n",
      "\n",
      "\n",
      "Ok, the good.  During the day, the quality of the video is great, and the sound quality is better than any other baby monitor I've seen or heard.  I also liked that it comes with a built in temperature and humidity sensor, which is a smart idea, and more baby monitors should incorporate this.Things I hated about this product:1. On the first night of using it, I accidentally left my wifi turned off on my iPhone.  I left the app open and running, and I ended up streaming 16 GB of data over the course the night.  16 GIGABYTES.  Luckily I have an unlimited data plan, if my wife had made the same mistake, it would have cost her somewhere on the order of $15,000 in overage charges based on her data plan.2. The night vision is horrible.  I can barely make my daughter out, and for several hours, couldn't tell her head from her stuffed bunny.  It's surprising how terrible the night vision is, considering this is a high end product.3. This device CONSTANTLY spams you with notifications and alerts.  Mostly, \"Monitoring of your baby has ended.\", followed in two minutes by \"You can now monitor your baby.\"  (Apparently, whenever it loses the wifi signal for a second, you need to know right away, and end up getting two alerts.)  When I wake up in the morning, I'll usually have between 8 and 12 alerts, so I have to mute my phone if I want to sleep, which defeats the purpose of a baby monitor.  Note, this is after I disabled all of the alerts I could - you can configure alerts for sound in the room, movement in the room, temperature and humidity.  I turned all of these off because otherwise you get 20 alerts an hour, and even with those off, I get alerts all the damn time.  If my wife accidentally leaves the monitor on after my daughter's nap, I get spammed with dozens of alerts in the afternoons at work.  This is extremely annoying.4. There is a small status bar at the bottom of the screen that you can't move or get rid of.  Unfortunately, the way our room is set up, there is no way for us to position the camera so this bar is not at least partially obscuring our daughter when she sleeps.5. The video is very choppy most of the time, and usually more like a series of photos every few seconds.  Also, there is a noticeable delay, often as much as five seconds between what is happening on the camera and what is actually happening in the room.In general, this product feels half baked, and like it was released in a beta version.  It wouldn't take much for this to turn into a great product, but it's definitely not there yet.  I hated this baby monitor, and returned it to the store after around 10 days.\n",
      "\n",
      "\n",
      "We registered for this item after reading the good reviews.  Our friend purchased it for us for our baby shower and to our dismay, when it arrived, it was not the product that is advertised on this site.  In the pictures, it shows Kiddopotomos in the logo.  When it arrived, it doesn't have any logo and the tag says Made in China.  It is suspect if this seller is selling counterfeight products. It is 100% polyester - the back side is fabric polyester and the other side is terry cloth (like a towel, and it snags just like a towel on the velcro that connects the head portion to the body portion).  In the other reviews, other people state that one side is soft and cuddly!  This is not the case! The stitching on the top of the product where the head goes is also very uneven and is poor quality.  I regret putting this item on our registry and since it was a gift, it has been a nightmare to deal with BabyHaven (Seller) Customer Service.When we contacted customer service to let them know that this product is not what is being advertised, they stated that Amazon chose the pictures and not them.  They also stated that they no longer sell the Kiddopotomos version since Summer Infant purchased the brand.  (IF THIS IS THE CASE, THEN DON't ADVERTISE IT THIS WAY, REMOVE THE MISLEADING PICTURES!) The Summer Infant version of this product is very cheap looking and does not look as nice and cuddly as what is being advertised.  After we contacted the Seller and made all our complaints, we noticed that they dropped the price from $19 to $11 to reflect the poor quality and it matches the pricing of other Summer Infant Snuzzlers, not the Kiddopotomos snuzzler.  Customer service did say they will give us a store credit for BabyHaven products for $11.35... It is super annoying becuase we want the nice Kiddopotomos Snuzzler in the pictures and not $11.35 in credit where we have to be dealing with the horrible customer service of Baby Haven again.  BUYERS BEWARE!\n",
      "\n",
      "\n",
      "please don't waste your money on this stroller.pros--stylish and compact. and that's it.cons--Brake is so cheap and flimsy. broke within two months of owning it. can't use this in NYC as stroller keeps rolling away everytime I try to open door or trunk--snap closure to keep stroller folded broke within three days of owning it--seat material very hard to clean and makes baby sweat--odd length and sides...baby is year and half old but seems too long for this stroller. uncomfortable seat fit--horrible awful dreadful dangerous harness!!! my baby ALWAYS manages to get out...besides not having an appropriate fit in this harness, the straps NEVER stay on..they need to redesign this stroller quickly...Since baby was year old has always managed to get arms free from this harness....--small wheels not good for city living or long walks. very wobblyplease, uppababy, do something about this uncomfortable harness...it just doesn't fit babies right.many more cons, too much to go into, basically people are buying it based on style not function. you will regret spending all this money when it starts to break down quickly...\n",
      "\n",
      "\n",
      "I can see why there are so many good reviews on this high chair.  The design looks great, the seat covering is easy to clean, the base folds up, and it can be used as a swing for infants.  I felt this was a great purchase too when we first brought it home.  6 months later, my opinion on this chair has changed quite a bit.The first thing I noticed right out of the box was that the entire thing is made of plastic.  The only metal parts on this chair are the screws and a few internal cables and rods.  As long as the plastic is sturdy enough, it should be fine however, there are a few stress points on the chair that I feel should have used a different material or at least a stronger piece of plastic.  After 6 months of use, I've noticed that the tray is beginning to sag noticeably from its own weight.  Any round object will roll to the far end of the tray.  For a $300 chair, one would expect the use of better materials.The base is folded up by lifting a plastic lever on each side of the chair.  About 3 months after purchase, the cable that is attached to one of levers popped off.  We rarely folded up the base so I figured it wasn't a major problem since at least the side that we push against the wall still worked.  Then about 5 months after the purchase, the other side popped off.  Now both sides of the base cannot be folded up.  As hard as I tried, the cables could not be reattached.  I also noticed that the lever on the back of the chair that allows you to recline the seat is very hard to pull.  It feels like the plastic lever is bending and ready to snap from the tension of the cable.  Unless the lever is pulled all the way, the seat will not recline.I would not recommend using the swing feature to anyone unless your baby is very young and cannot move their arms around.  My baby was just beginning to learn how to move his arms to touch things by the time we purchased this chair.  He was still well within the recommended weight limit for the swing so we gave it a try.  As he was swinging, he tried touching one of the arms that was attached to the seat and got his fingers pinched.  The arms that are attached to the chair crosses very closely to the arms that are attached to the base.  As the chair swings, there is a very strong possibility that a child will get their fingers pinched or even seriously crushed between the two arms.  The clearance between the two arms as they cross is very small.  Its almost like a scissor action with two arms crossing back and forth well within reach of the child.  Needless to say, we never used the swing after the first try.I finally called the Peg-Perego customer service line regarding the broken levers and was told they would be sending me replacement arms for the chair but I would have to dissemble the chair myself to replace them.  There are no repair locations in my area so I have no choice.  They also informed me that they would have to get back to me on the total shipping and handling charge for the replacement parts.  Yes, they even charge you for handling.  I can't wait to find out how much this warranty fix is going to cost me.UPDATEIts been a week and I still haven't heard back from the Peg-Perego customer service dept on the shipping & handling charge for the replacement parts.  Just this morning, the plastic cover on the piece that the t-bar attaches to fell off while we were placing our baby in the chair.  We were not using the t-bar and rarely do.  It took me several minutes to find the small metal spring that was underneath the button on the cover.  The small metal spring is a choking hazard and had my wife not noticed the cover falling off, our baby could have found it before us.  I just emailed them again to follow up on the first call and to report this new issue.2ND UPDATEAfter another email and a follow up call, I spoke their customer service and was told the shipping and handling would be $30.  I asked if the arms would come with instructions on how to disassemble and reassemble the chair and was told that the instructions that came with the chair should show me how.  After I hung up, I looked through the manual and could not find any instructions on this.  I guess I will have to see if I can figure it out on my own when the parts arrive.3RD UPDATEI received the replacement part about a week and a half after they charged my credit card.  They ended up sending the entire base and arms so no major disassembling was required.  The seat and wheels were easily removed from the old chair and attached to the new base.  The customer service rep said the part they were sending would also address the other two issues of the sagging tray and the t-bar base cover falling off but it does not.  The slots that the tray is inserted into and the t-bar base cover are totally separate from the base they sent to me.  I decided to just live with the sagging tray and wrapped the cover back on with strong tape after removing the button and spring.\n",
      "\n",
      "\n",
      "It's such a shame, this desk. It is marketed as a \"quality product...made with sustainable hard wood with a natural finish and stained...and varnished...\". It is hard wood and it is a natural finish stained and varnished, but the problem is the quality. I decided the other reviewers with problems were just unlucky. After receiving this item twice, I think you'd be lucky to get a good one.The first desk had shipping issues. UPS obviously overlooked the fragile and this end up notices. There was a large hole in the top of the box that had been patched. I later figured out not only had it been patched, but the box top and been removed, the top layer of styrofoam had been swapped end to end and replaced, and quite possibly whoever did this left their box cutter in the box, because there was one loose in it when I opened it. The major damage from shipping was that the corner of the top was hit and basically smashed.On top of that, one drawer front was detached completely. One cleat between the desk top and side was broken in half with one half attached and one half loose. One bag of hardware was missing. Another drawer front was split but still attached. Getting the picture? The shipping was poor, but that doesn't explain it all. So, I sent that one back and asked for a replacement.The second one arrived in better shape. Naturally, UPS left it standing on an end leaning against my window. But, there were far fewer holes in the box. I was optimistic. Here's what was wrong with this one. Same drawer front(in the row) was detached from the drawer. Drawer back of same drawer was also detached. Desk top corner damaged (same exact corner because there is only cardboard protecting it and just about zero chance the shipper isn't going to stand it on an end at some point). A chair rail was broken all the way through. The desk back, the piece that stands as a backstop at the rear of the desk top, was split on the bottom where the dowel hole was. That dowel was broken in half. Also, the finial/decorative pieces were just plain missing. The cardboard container the first box had them in was there, but the pieces weren't in it.On the plus side, no outgassing. Which makes it all the more shameful that they couldn't get it right. The desk I'm typing this at is very similar to the \"Magic\" one in that it's a put it together yourself thing that weighs a lot and is shipped in a box. It came in the crappiest cardboard an styrofoam that practically disintegrated on contact. And yet, because of HOW it was packaged, there was not a scratch anywhere. The \"Magic\" desk could be a good product. It is let down in manufacturing and packaging. Now our supposedly eco-friendly desk is two piles of trash and a lot of wasted fuel, time, and energy from here to Thailand.If you have a suggestion for a girl's desk that is made of hard wood and doesn't outgas, feel free to add that to the comments since we still don't have a desk.\n",
      "\n",
      "\n",
      "where do i even begin? this baby monitor is not safe, that's where. our infant sleeps one level directly above us and well within the 150  foot range advertised. we have had several nights waking up to a monitor with video on but the sound off, or at best breaking up constantly (try to sleep with intermittent white noise, i dare you). so we would have an infant kicking and screaming but when you're asleep, you don't get to see this activity but rely on the sound to wake you; worthless. the camera also completely blacks out from time to time, meaning we can hear (sometimes) our infant but the screen is black. it requires turning off the camera several times until it 'reboots' itself and works; worthless. the VOX function, which is supposed to allow the battery rest while monitoring the infant and bringing the video and sound back to the monitor if sound is detected. this function doesn't work at all. never; worthless. upon attempting the 'live chat' function on the Levana website, i was told to return the monitor and have one of their technicians spend some time checking it and either repair or replace (2-4 weeks). when i requested a replacement sent immediately, i was told i had to purchase it until the defective one was ruled defective. the chat session lasted more than 30 minutes, with each customer service response coming around 3-5 minutes after mine; so, yes, customer service: worthless.when it comes to something as important as infant safety and adult sleep, don't waist your time or money with this worthless product. spend more money and get a better product; this is indeed one purchase no one should skimp on. after much advice, i've purchased the samsung safeview and am hoping for a much better experience than this one, which was worthless.\n",
      "\n",
      "\n",
      "I am a \"research-aholic\" in general and have researched many different baby products over the past 5 years due to being a mother of 3 and wanting to get the best for the price and not wanting to settle for less...  I live in the Northeast US, so it gets really cold and the weather changes frequently and in extremes on a daily, if not hourly basis.  Anyway, here are the brands I've used/owed and/or researched extensively and the comparisons:Jolly Jumper Arctic Sneak A Peek Infant Car Seat Cover (JJA)Jolly Jumper Sneak A Peek Infant Car Seat Cover (JJ)Summer Infant Poshpouch (SP)Cozy Car Seat Microfiber and Fleece Cover (CC)Baby's Cozy World Microfiber & Fleece Carrier Cover (BC) (yes the CC and the BC are different many people do not know this....)JJ Cole infant/original bundle me (JJC)JJ Cole toddler bundle me  (JJT)OK...Jolly Jumper Artic (JJA) is awesome, I would rate it the best one out of all.  It is a \"shower cap\" cover for the infant car seat, it has an attached blanket inside and a peek-a-boo flap that you can velcro closed to keep the baby's face covered and warm and you can also velcro it \"up\" to stay open when when you put the baby in the car.  It has two zippers which allow the cover to be fully opened without removal of the cover and easy access to baby.  And lastly, it keeps the baby from over heating.  When opening the two zippers it enable the ability to \"flip\" the middle piece down keeping it completely off the baby.  The blanket is a nice feature of this cover.  You can use it alone with the two zippers open on a warmer day and you can also flip the blanket down away from the baby as well when not in use.  Another nice thing about the blanket is you can wrap it around baby to keep them warm (it does not go behind the baby but can be placed on the sides of the baby), there is enough material on both sides to do this..  Some reviewers of this carrier cover and other \"shower cap\" cover styles stated that there were gaps around the handle, this is true of mostly all the shower cap covers except you can adjust this one on the sides to cover these gaps.  Also you can take the wrap around blanket and cover the baby as well as feed it through the gaps on the sides to close them if the cover cannot be adjusted on your carrier to fit around the bottom to close that area.  The outer portion is nylon, like a jacket material and it is waterproof, the fleece is substantial and it keeps the infant very, warm. This is an expensive carrier but well worth the money!  This is top notch!Jolly Jumper (JJ) is the same carrier cover as above minus the attached blanket.  Again, overall an excellent cover.  It is not much less money than the JJA and no matter what climate I would personally pay the extra money for the JJA just because you can use the blanket when opening the cover by the zippers and then you still have the option of zippering the carrier for more protection if it is raining or it gets colder.  You can also fold down the blanket and not use it as all on the JJA and use it like a JJ.Summer Infant Poshpouch (SP) is another \"shower cap\" cover for the infant carseat but it has an opening in the top with no flap to velcro over baby's face.  I owned this before the JJA and here are some major differences.  It is a much thinner material, the fleece isn't as substantial and the outer portion is not waterproof or nylon but a fleece polyester material.  The opening is rather large and I felt as though breezes/wind would go right through the hole and it is definitely not as effective in making the baby warm, esp. in colder conditions.  To remedy this problem I put a blanket on underside of the cover and the baby warmer, esp on 30 degree days.  I also had to put a hat and make sure the blanket was high on baby to cover the baby's neck or use something to make sure baby's neck was covered due to the hole being so big.  It also gaps much more on the sides then the JJA and the JJ.  The SP only has one zipper to unzip the baby when inside.  And when you want to keep the baby inside the carrier, you really have to take the whole thing off to leave the baby in in order to not be covered.  And it is hard to get the baby out without pushing it aside.AND MOST IMPORTANTLY ******* PLEASE SEE*****  it was very scary when I discovered that when you place it on correctly and put it over the infant carseat, I would put my infant carseat into the holster and it WOULD NOT, I repeat WOULD NOT lATCH INTO THE BASE!!!!  There was no way of knowing this unless you checked, (I check my baby each time to make sure the carseat is latched in, just by habit), but it would not even be partially latched just completely unlatched....  I felt this was unacceptable....  Even when I tried to adjust it by pulling the bottom portion up, where the baby's feet would be, the cover b/c of the elastic would just come up, bunch and be partially off with a gap under the baby's feet so I feel this carrier is a COMPLETE WASTE OF MONEY.  I paid 2/3 the cost of the JJA and it is more then the CC and BC.Cozy Car Seat Microfiber and Fleece Cover (CC) A lot of people think this is the BC and it is the same price but it is not.  It is a cheap spin off of the BC even though it is the same price.  The fabric is less substantial, it is honestly more like the SP.  Not worth the money and don't make the mistake of getting it.Baby's Cozy World Microfiber & Fleece Carrier Cover (BC) uses a type of microfiber called microsuede, which is a soft fabric made from synthetic fibers that are an imitation to suede.  It seems like it is a good bang for your buck coming in around twenty dollars which is half of the JJA.  The only thing is if you live in a really rainy climate I don't think it would be as waterproof being microsuede as the JJ or the JJA material.  Another reviewer stated that the BABY'S COZY WORLD is reversible (which I am not sure how it can be reversible deeming that it does have a flap that goes over the infants face like the CC, JJA and JJ but maybe??)The reviewer also stated that the BC has pacifier clips, which would be a nice feature for toys as well and that is is very thick for all weather and it is the same price as the CC.  ONE THING that many reviews said about the CC and the BC is that the zippers can be dangerous b/c they line up in the same place as a newborns eyes and have the potential for scratching the cornea.  With the JJ and the JJA the zippers do not seem as though they would reach this far.  Maybe the CC and the BC have larger zippers that might spin around in opposite directions esp if it is \"reversible\".  It does have the zippers on both sides (like the JJ and JJA) to unzip and expose the infant nicely when inside.  For the price this seems like it would be a good carrier as well and I would rate the the BC a close second and very comparable to the JJ but does not have a blanket feature like the JJA.JJ Cole infant/original bundle me (JJC)is what I owned with my first child who was a premature infant and I only got about 7 months of use out of this cover due to the fact that infants tend to grow out of it very fast, usually before they are out of their infant carseat.  That is why I got the toddler JJ cole toddler size after.  It is a different type of carrier than all the others that are reviewed above being that it is not a shower cap style it has an underside fabric to the carrier that is placed under the harness straps and then a layer goes over the baby and is zippered down and around the bottom.  FIRST OF ALL THIS IS DANGEROUS, which I never knew as a new mom, and why they even CAN SELL them as carseat covers is beyond me because if you get into an accident it compresses under the infant because of the added bulk between the seat and the child, (it is like the infant is wearing a jacket) so there is more room in between the harness and the infant deeming it unsafe.  Also, JJ cole now has the lite JJ cole and says that it passed crash tests but The Bundle me Lite's openings do not come anywhere near the hip straps of the harness... meaning they would be improperly routed, thus creating slack.  Here is a picture: [...]  No certified carseat technicians recommend this aftermarket product for the carseat.  Any many if not all carseat companies state if an aftermarket product is used \"inside\" the carseat between the harness and baby it will void all guarantees for safety.  NOT GOOD.JJ Cole toddler (JJT)  Had this mostly with my first child (after she was 7 months) and second child and would not use now d/t the same reason above with the JJ.  But it could be nice with a stroller.  The only thing is you do need a hat and something to cover the baby's neck as well.In summary:#1The Jolly Jumper Artic (JJA) wins the race, I am very very please with this product, esp the blanket aspect that I think is well worth it!The JJ is basically the same product as the JJA but without the blanket....#2The Baby's Cozy World Microfiber & Fleece Carrier Cover (BC) (but make sure it is the BC and not the CC when you purchase it) comes in a close second esp for the price!Hope this review is helpful to you and you now won't have to go through the countless hours of research and will be getting a great product while not wasting any of your time or money on another worthless baby item, instead ONLY getting the BEST for your baby!!!!\n",
      "\n",
      "\n",
      "I purchased this in the black color.  For some reason this site is not allowing me to submit this review in the black color, so it's showing this as a review for the silver bag.  Just as a side note, the silver bag was the same price as the black and blush. One day after this review was initially posted online under the silver color, the price increased from twenty-nine and ninety nine to over seventy dollars and now includes free shipping and free returns.I really wanted to love this bag. However, when I first opened the box, I had knew this bag would have to be returned. I contacted the seller via Amazon and they were very easy to work with and provided no hassle in providing a prompt return authorization. However, when I went to the post office, the clerk let me know that even at the cheapest shipping rate, it would cost almost half the price of the bag in order for me to return it to the vendor due to the location from which it was going to be shipped. So, with that in mind, I decided to keep the bag. I will probably pass it on to someone with 1 child or a first time mother, or just use it as a purse.Here is what I like about the bag:1. It is beautiful and fashionable. The silver hardware is also nice. It doesn't look like a diaper bag.2. The handles seem to be well made.3. It comes with stroller straps.4. The changing pad is not padded. For me this would not be an issue, as it only means that it could be tossed into the washer to be cleaned when needed. A padded changing pad would not be as easy to machine wash without getting torn up.Here are the deal breakers for me on this bag:1. The bottom part of the bag I received is not sturdy at all. It's very thin and flimsy. The faux leather is also very wrinkled, as if it were glued on improperly and left to dry that way. When you sit the bag down it just falls down all over the place.2. A reveiwer stated the dimensions of the bag and its pockets. The bag I received has different dimensions. For example, it was stated that the back zippered pocket was 8x10. The back zippered pocket on the bag I received is actually 3x5. In fact, all of the pockets are too small and not deep enough. This translates into all of my things falling out withing the bag.3. I could not fit hardly anything in the pockets. I tried to fit just 2 pampers cruisers size 6 diapers into the largest pocket. It did not work at all. I could not fit the adjustable strap inside any of the pockets. Nor could I fit a bottle into the insulated pocket. The insulated pocket is extremely small and narrow. My hand would not even fit inside , and I have small hands.4. The pocket on the changing pad is sewn on crooked and is also much to small. I could not fit diapers or travel wipes or anything else in this pocket.5. I am minimalist. I like to keep diaper bag packing simple. I could NOT fit a blanket, change of clothes for baby and 2 year old, juice box and small snack, diapers, and wipes into this bag. The bag I received was not as large as others described. I have 2 small ones and a 3rd baby on the way. There is absolutely no way I could fit what's needed in here. I tried and it didn't work.6. This bag is heavy when empty. When filled, it's even more heavy on the shoulder. I'm not willing to sacrifice my shoulder for style. I need to be able to lift, and move young children and a baby quickly without having to contend with a heavy shoulder bag.This bag is actually made under the brand name Tiddliwinks and sells for seventy nine dollars and up at T-a-r-g-e-t and B-a-b-i-e-s R Us. I purchased this bag from this vendor for twenty-nine dollars and ninety-nine cents without free shipping and free returns being offered.  Kidsline is not affiliated with this brand name. I called the T-a-r-g-e-t headquarters to get the comapany contact information to find out more and they said that kidsline is not the name of the company that makes this. So, I then went to the kidsline website. The website does not mention any diaper bags at all, only room decor and such. So, I'm now wondering if this bag is not a knock off of the original brand. This might explain why my bag seemed a little different from other reviewers. Regardless, the bag is cute. However, one can find more functional bags on clearance at T-a-r-g-e-t. If you want cute then buy this. If you also crave funcionality then look elsewhere.\n",
      "\n",
      "\n",
      "I just wanted to take the time to tell you how incredibly frustrated and disappointed I am in the JJ Cole System Bag.  I was so excited to use the bag with my daughter.  The metro/sporty style and functionality of the bag attracted me to the product.  I thought it would be perfect for my husband and I to both use.  However, I was incredibly disappointed with the quality of the bag.  After using it for just 2 weeks, the stiching along the main zipper on the bag was starting to show strain.  This was along a non-stress bearing seam.  It was clearly a defect due to poor craftsmanship.  It seemed the fabric was too easily frayed and stretched.  Within a couple days it completely detached and left a hole along the sipper, their was additional strain marks along the entire zipper.  I figured it was just a one time bag defect, so I exchanged it for a new one.  Unfortunately after 3 weeks my 2nd bag was showing the same wear and tore along the same zipper in two places.  This is simply ridiculous and clearly a major flaw in bag design.  I really couldn't believe it after paying top dollar for the bag.  I wanted to share with you my disappointment.  I am telling all of my friends not to get the bag and to keep shopping around for a sporty functional diaper bag.\n",
      "\n",
      "\n",
      "PLEASE HEED THE OTHER REVIEWERS WARNINGS ON THIS.  I am not one to write a review, but the Evenflo high chair is so dangerous and the company so negligent, that I had to let others know.  We have the Evenflo Majestic Highchair which has recently, finally, been recalled.  We had issues with the screws popping out of the recliner section of the chair when we used it with our then 4 month old, I called Evenflo last March, they sent me a repair kit with longer screws, still didn't work. Customer service had told me then this was not a common problem and that even with a screw missing, highchair was safe to use, not dangerous. I'm so furious they lied about my son's safety!!!!! Our longer screws did pop out a few times, we put them back in, I called back and since the highchair still held up fine and they told me it was okay to use, we wrongly trusted Evenflo and continued to use the highchair (my husband had checked it and felt is was okay). I just called in response to last weeks recall and they said they do have a record of me calling, sorry that happened and would I like a new set of screws? They won't give a refund and the new screws (which they will ship out in approx. 2 weeks, and recommend we don't use the highchair in the meantime) supposedly work better than the original replacements. I am returning this to the store, and if they won't accept the return, I'll have to eat the cost and throw out the chair.  We've had so many of our kids' things recalled, it's infuriating that these companies only have to send screws that may or may not work and before their belated recalls, our kids are at risk and to boot this time they assured me there was no danger. Please do not buy Evenflo and know that you can't trust the info you receive from customer service.I'm am so thankful my son wasn't injured. We've had other issues with most of our Evenflo products not working correctly, but all involving bells and whistles not structual. I just can't understand how these companies put more money into their impossible to open packaging than into their product safety.\n",
      "\n",
      "\n",
      "My husband and I are VERY disappointed and shocked by how awful this bassinet is. We ordered it because we liked the color and it looked nice and simple and it was inexpensive. Well, we got what we paid for!!1. It comes in 3 parts so you would think assembly would be a piece of cake. EVERYTHING about assembling this is awful. There are metal wires on the back that you have to force into these clips which is almost impossible because the wire is way too long. I, 10 months pregnant, had to push the opposite side of the bassinet as hard as i could so my husband could try to get the wire into the clips that it comes with. This took us a very long time.2. Next we tried to pull the legs apart which were wedged together by all the screws and things attached.3. THE CANOPY! You would think this would be a sinch, right? The canopy wires (or wine as they call them in the instructions!!) was backwards. The canonpy is so flimsy that it hardly is worthwhile. Once we got the canopy wire turned around correctly, we pushed as hard as possible to insert the canopy into the base and twice in about an hour the canopy already popped out which clearly poses a safety issue if there were a baby inside!4. The wheels were very hard to insert to the point that they clicked in.5. The instructions were obviously written by a non-English speaking person. Not only is the grammar horrific, there are spelling errors and the instructions tell you NOTHING. What does, \"Pull forward to open, pull afterward to close\" mean? This is all that is given on how to insert the canopy. Which again, you would think would be self explanatory. But when you are trying for 20 minutes to get it to insert and the wire is backwards, you look for some sort of instruction. The only instruction they do give is the obvious. Again, open canopy? Ok, thank you. that's great. HOW DO YOU INSERT IT PROPERLY???6. Finally, the color is very weird. I wouldnt have even mentioned this if it wasnt so awful in every other way. I thought it was going to be green, but like a previous review said, its blue and yellow plaid with green ruffles. The sheet that comes with it is a very rough material. The basket beneath seems impossible to get into as there is just a very small opening on the sides. All of this I could have lived with.I am so frustrated with this because we are having our baby in 3 days and the bassinet just arrived. I was excited, assuming we would have the bassinet in time for the baby. Now it appears we are going to have to return it because it is so awful.(If we can figure out how to get this thing apart!!! and no wonder it is out of stock everywhere!!!!! no one wants to sell junk like this!) I was going to keep it and make do with it until the canopy continued to pop out. I can't put my baby in something this unsafe. And now its to the point where I am so frustrated with how poorly made this is that even though it was only $60, it's the principle that I want something that will last through future children. I have no idea where we are going to put our baby for the first week or so during the most exhausting period of motherhood!! Thanks a lot Dream on Me!!!!!!!!!\n",
      "\n",
      "\n",
      "I am so incredibly disappointed with the stroller; I just don't even know where to begin.  First of all, I have four children and have been through many strollers.  This stroller, hands down, is the worst stroller I have ever owned.  I really wanted a double stroller that was somewhat compact but that would also accommodate an infant car seat.  The Aria twin claims to be able to do this.CONS- So, first a foremost, I would NEVER place an infant car seat on this stroller.  Even with a Peg Perego infant car seat, it is really unsteady while on the stroller.  The tray the car seat rests on is super flimsy, as in worse than a super cheap 40 dollar stroller.- In general, the entire stroller is made of really flimsy cheapo plastic.- With two small children in it (one that weights 22 pounds and the other only 15 pounds) the stroller is really difficult to steer.  When attempting to turn, the entire plastic frame twists and feels like it is going to brake.  It feels like trying to turn with two 100 pound kids overloading the stroller. It feels like a really cheapo stroller.- From day one, the storage basket under the kids has dragged on the ground.  Yes, it is installed correctly.  I even called Peg Perego but they said there was nothing they could do.  So, now it has a giant hole in it and cannot be use.- Since about the second week we owned the stroller, the \"tires\" on the wheels of the stroller keep randomly popping off.  I will be walking in the mall, and hear a thump-thump-thump sound only to see a tire half hanging on tot he wheel.- The cup holder is worthless and will not fit anything, at all except maybe a small water bottle.- The sun shades are really, really short. I had to buy extensions.PRO- It does fold very compactly, as in much smaller than most single strollers.I really wanted to love this stroller.  I kept making excuses for it, but finally just gave up.  At this point, my husband refuses to use it.  We really have been through many strollers and none are perfect.  However, if you are looking for a somewhat compact but nice double stroller, I would recommend looking at the Baby Jogger City Mini (which is what I ended up buying to replace this stroller) or maybe the Combi double stroller which our friends have and seem to really enjoy.  I would not waste money on the Aria twin.  I spent over 300 dollars on this stroller and can't even attempt to resell it because after less than a year of use it is basically trash (which is what it wound up being).  I don't know about other Peg Perego products, but after my experience with this stroller I can honestly say I'm not going to gamble my money on the brand again.\n",
      "\n",
      "\n",
      "This product should be in the hall of fame solely based on it's ability to achieve such a high number of positive ratings from parents hoping to stimulate their child's intelligence. Don't be fooled, it's a piece of junk. I had such high hopes for this, and even at a $15 purchase price I feel ripped off.Pros:-Nice images with high color contrastCons:- Simply horrible construction. The pieces of plastic could not be more cheap, and one of the nubs cracked right off during assembly. The arches and misc plastic pieces probably cost all of .20 to manufacture in total.- The image cards do not easily fit into the attachment nubs, and do not hang straight as a result. Maybe this changes over time, but right now from an underneath view you basically see a card slanted sideways. Not interesting IMO.- The bar that attaches to the side of the crib is a terrible design, and it is LAVENDER. Seriously, it is not white at all. It clashes completely with the rest of the product, contrary to the image on Amazon and the product box.It's just cheap and hideous, really. The idea is good, but they should be ashamed at the execution. The cheap thin plastic and non-matching parts should be an embarrassment to any manufacturer who claims to me making toys to stimulate a child's thinking and intelligence. There was clearly neither thinking or intelligence behind this product.\n",
      "\n",
      "\n",
      "First off, I did manage to find this product for $20 less at \"the big box store\" than the price here. Secondly, this product is horribly manufactured.  Absolute waste of money.  The only thing I'll give it credit for is the assembly instruction sheet is as clear cut as I've come across in assemble-at-home baby products.  But that's where the quality ends.  In the first step, I noticed the \"foot pieces\" did not attach as described in the instructions, and this is because the 3 pieces in question were supposed to be uniform to fit in the same manner in all 3 places.  But poor manufacturing threw that uniformity out of the window.  One piece fit fine, the second piece not so much, and the third piece not at all.  They're supposed to snap into place, but I noticed the 3 supposedly identical pieces slightly varied in size on the locking parts, causing one piece to fit where it was supposed to, but the other 2 not to.  All pieces on this product 'snap' into place using the old indented tab system for locking into slots.  These tabs are so flimsy and brittle, they cracked when trying to snap them into position.  And even the ones that didn't crack fit so loosely, I have serious choking concerns in how easy it'd be for a child to simply pull them loose.  Also, the little key ring items have cheap stickers on them that dissolve and flake off when you wash them.  Another choking concern.Finally, the musical element to this product, the little box with the mirror and 3 animals on it, suffers from faulty design that makes it unusable with the product.  Every other part to this product snaps into place, except for this one piece.  The assembly sheet instructs you to sit this piece into place and turn two 'keys' on the bottom side to lock it into place on the entertainment center, effectively forming a 'clamp' that locks the music box onto the center.  The problem is, the gap between the key and the bottom of the music box that forms this clamp lock is just under 1/8\" wide, and the slot you slide it into to turn the key and lock it onto has an edge that's a little over 1/4\" thick.  This makes it impossible to turn the key and lock the music box onto the entertainment center, as the instruction sheet clearly states you should be able to do.  Very poorly manufactured.  This makes the audio portion of the product essentially useless as a whole.  And I'd be willing to bet all units of this product suffer from the same faulty form.  I'm extremely disappointed not only with this, but the clear choking hazards I see with the other loose fitting parts and peeling, flaking, dissolving stickers on the key ring.  Will definitely be taking this product back for a full refund.  I can't stress enough how much anyone considering this product should steer clear of it.  Blatant failure of quality and safety control on the manufacturer's part.\n",
      "\n",
      "\n"
     ]
    }
   ],
   "source": [
    "for item in pd.merge(highest_probability_indices, test_data['review'], left_on=0, right_on=test_data.index)['review']:\n",
    "    print(item)\n",
    "    print(\"\\n\")"
   ]
  },
  {
   "cell_type": "markdown",
   "metadata": {},
   "source": [
    "#### Quiz Question: Which of the following products are represented in the 20 most negative reviews?\n"
   ]
  },
  {
   "cell_type": "code",
   "execution_count": 139,
   "metadata": {},
   "outputs": [
    {
     "name": "stdout",
     "output_type": "stream",
     "text": [
      "new to cloth diapering- trying to figure out if its right for you?- check out this link to help break down the lingo and facts: [...]. if that link doesnt work- i will copy and paste the info at the bottom of this review. And now- MY two cents....I used disposable first as my baby was too small to fit into his ALL-IN-ONE BumGenius pocket diapers. He grew into them once he reached 10 lbs. (around 1 month old). Originally I only had 20 diapers but quickly purchased another 20. The total of 40 diapers ran around $650.00. If you do the math, thats what you will pay for dispoables in the first 5 - 6 months! I wash them on average twice a week and with each passing month they are circulating more slowly (as my baby's bowels function more regularly and effeceintly). They are holding up very well so far. VERY few leaks. Actally had more leaks and blowouts with the disposable diapers- also more issues with diaper rash. They go on with ease- the velcro makes them just like disposable diapers. Once I have removed the used diaper I simply place it in my Planet Wise Hanging Wet/Dry Diaper Bag. I initially feared there would be smells through my house from this type of diapering. There is NO SMELL. I have asked visitors and no one even knew I was cloth diapering due to a dirty diaper smell. To wash, I use a special detergent on them: Charlie's Soap Powder or Rockin Green Cloth Diaper and Laundry Detergent. Until the baby begins on solids, soiled diapers can go right from the wetbag to the wash- just add a presoak and extra rinse as you follow the washing instructions. Once you are getting solid bowel movements- you can use liners and shke solids off into a toilet. Warning- even if liner says \"flushable\" DO NOT FLUSH- its not worth the plumming bill!These diapers make cloth diapering as easy as disposable with the obvious $$$ benefit. I dont know why people are still using disposable diapers. REALLY, what a waste of money!HERES THE INFO FROM THAT LINK IN THE BEGINNING OF MY REVIEW:Curious About Cloth?Get the Skinny on Today's Cloth DiapersToday's parents make hundreds of decisions for their little ones with a combination of instinct, friends' advice, and research. Even with the recent surge in sales of new types of cloth diapers, many parents remain unaware of the latest developments in cloth.  Curious moms are going to the Internet to research, but basic information is still somewhat hard to find.There have always been economic and environmental advantages to using cloth diapers. Clearly, having diapers that can be washed and used again saves (a lot of) money and keeps disposable diapers from filling up landfills. Even the most expensive and fancy cloth diapering system will save the average family $1,000 or more over disposables. Unfortunately, many moms today still envision cloth diapering as squares of cotton, safety pins (eek!) and plastic pants.CuteyBaby wants to help!  Here we summarize the general categories of modern cloth diapers and give you the pros and cons of using each type:The \"Wrap with Prefolds\" diaper:Bummis Whisper WrapThe closest thing to traditional cloth diapering of all the modern diapers. The Wrap (also called a \"Cover\") is waterproof, typically PUL (Polyester Urethane Laminate) fabric with elastic edges. Some Wraps put the PUL between layers of cotton for a very soft feel. The Wrap usually closes with Velcro or snaps so you can adjust fit. Absorbent layers - which could be cotton, hemp, bamboo, or microfiber - are placed inside the wrap to hold liquid. Some moms attach the absorbent layers with a Snappi closure. A \"prefold\" just refers to the old kind of diaper with thickness down the center.Hemp Babies FlatsSeveral manufacturers make squares (\"Prefolds\" or \"Flats\") that you fold in thirds to use inside a Wrap. Prefolds and Flats can be a variety of materials. Cotton and hemp are popular. At changing time, some moms will just switch the absorbent layers and re-use the Wrap/Cover if the baby is only a little wet.Pros: Cheap - the least expensive of cloth diaper styles. Flexible - Moms can adjust absorbency by adding more layers.Cons: Putting them together requires extra time, effort.Examples: Wraps: Bummis, Thirsties, Imse VimsePrefolds/Flats: Swaddlebees, Bummis, Green Acre Designs, Hemp BabiesThe \"Wrap with Fitted\" diaper:Kissaluvs Fitted Cloth DiaperThis diapering method is similar to the \"Wrap with Prefolds\" approach except it has a fitted absorbent layer. Several manufacturers make fitted diapers in cotton, bamboo, and other natural fiber blends. The absorbent fitted diaper may have Velcro or snaps to close, and the wrap goes over it to form a moisture barrier.Pros: Better absorbency and comfort than \"Wrap with Prefolds\".Cons: Sort of like putting 2 diapers on, need to buy more sizes, longer drying times than flats.Examples: Fitteds: Kissaluvs, Swaddlebees, Baby Beehinds, ThirstiesWraps: see aboveThe \"Pocket\" Diaper:Bum Genius Pocket DiaperPocket diapers are made with an outer PUL waterproof layer, inside wicking layer, and \"stuffed\" with washable absorbent pads (called soakers, doublers, boosters) from an opening in (usually the back edge of) the diaper. It is the most common design because it can be loaded up with absorbent layers that stay relatively in place. There is typically a soft interior material, which gives the baby healthier skin and a dryer feel. Pocket diapers are often \"one-size\" designs that can be adjusted to fit babies of different sizes.Pros: Selection - Many options with snaps, Velcro, different soakers. Adjustability - fits a wide variety of infants. Absorbency can be adjusted by stuffing in extra soakers.Cons: Requires disassembly before and re-stuffing after washing. Some fleece insides may stain. One-size designs can be bulky at the small settings and may not fit up to potty training age.Examples: Happy Heiny, Fuzzi Bunz, Bum Genius, Smartipants, Blueberry, Rocky MountainThe \"All-In-One/All-In-Two\" diaper (AIO or AI2):CuteyBaby All-in-One Cloth DiaperThese diapers are usually all one piece but sometimes have a snap in soaker, making it an \"all-in-two\". The easiest type to use, they require little or no assembly and, like all cloth diapers, can be washed in a regular home washing machine. Outer layer is waterproof and typically PUL polyester or nylon fabric and the inside usually includes a multi-layer microfiber (also called microterry) or cotton soaker for absorbency. Some AIO/AI2 diapers come in sizes, and other are adjustable \"one-size\" designs.Pros: Simple - Very easy to use, no stuffing/assembly needed.Cons: Often require longer drying times, may not have enough built-in absorbency.Examples: Dream-Eze, GroBaby, CuteyBabyDiaper DialogueGetting started with cloth diapers can be confusing! Different manufacturers may call something by different names. To help you sort things out, here are a few of the most common terms:Soaker: The soaker is the highly absorbent portion of the diaper. A soaker may be a completely separate piece that is either laid or snapped into the diaper, or it can be partially or fully attached. Soakers usually have multiple layers stitched together to form a long pad shape (can be rectangular or contoured). Also see: DoublerDoubler: A doubler looks like a pad and is an absorbent soaker that can be added to a cloth diaper if you are having leakage problems or for times when extra protection may be needed such as overnight. It \"doubles\" the absorbency of the original soaker, hence the name.Booster: Like a doubler (above), but lighter-duty. Boosters \"boost\" the absorbency of a soaker, hence the name.Liner: This is a super-thin (paper-like) layer that some moms like to put on top, inside their cloth diapers. Liners are disposable or flushable and usually come on a roll. Liquids flow through to the diaper as usual, but liners keep the poop from staining or sticking - you can flush or throw them away at each diaper change.Snappi: A special \"T\" or \"Y\" shaped plastic closure to secure fitteds or contours (like a fitted with no elastic or closure) on the baby (replaces diaper pins). Snappis are not needed for Pocket or All-in-One/Two diaper styles.One-size vs. Sized/Fitted: Some diapers have adjustability built-in, others come in sizes. Usually you sacrifice some comfort at the high and low end of the size range for \"One-size\" diapers. Sized diapers will give the best fit, but you will need to buy more as your baby grows.  Check out our Cloth Diaper Comparison chart to see how a size \"medium\" fitted diaper compares to \"one-size\" diapers in a few of the top diaper lines.Wet Bag: Many moms like to have these washable, waterproof fabric zipper bags for dirty diapers. You can also just stash some plastic grocery bags in your diaper bag to bring home dirties. Wet Bags come in a variety of sizes and large ones are nice to have near your changing area to hold the day's diaper laundry.Fabrics:PUL: Polyester Urethane Laminate (PUL) is used as a waterproof outer (or layer) fabric for many Wraps, Pocket, and All-in-One/Two diapers. 100% Polyester interlock is laminated (could be 1-2 mil thickness) on one side and becomes waterproof but remains breathable. Good quality PUL can withstand very high temperatures and should last for 100s of washings. Note: we have heard both P.U.L. and \"pull\" as pronociations.Microfiber/Microterry: Microterry fiber is a low-lint, soft fiber that is ideal for use as a cloth diaper soaker, doubler or booster. It is the most common fabric used for Pocket diaper soakers. Good quality microfiber has a velvety feel and typically contains 80% polyester and 20% polyamide fibers. Microfiber is 3-4 times as absorbent as cotton for the same bulk and will dry faster.Suedecloth: Used as a lining in many pocket and All-in-One/Two diapers, suedecloth is typically 100% polyester woven material that has a soft feel. It resists staining and wicks away moisture to the inside of the diaper.  The fabric will not hold moisture making cleanup a breeze and keeping baby's skin drier than cotton.Microfleece / Microchamois: Thin, soft fleece is used as a lining in some pocket diapers. This is usually 100% polyester or sometimes recycled plastic fiber content. Microfleece and microchamois (pronounced micro-shammy) have a soft feel against the skin and pull moisture in to the soaking layers. They do stain more easily than other lining fabrics.Cotton: Our old friend cotton still plays a big role in diapering. Organic cotton is a popular soaker/inside material and is used for fitted and contour diapers (that require a cover). Cotton is very slow to dry and may require up to 8 washes before it reaches full absorbency. Organic cotton is grown without chemical pesticides, which costs more, but is kinder to the environment. However, organic and \"regular\" cotton perform the same in diapering.Hemp (fleece, terry): Hemp is stronger, more absorbent, and more durable than cotton and most other fabrics. Hemp on its own is not soft enough for baby's skin, so most hemp fabrics are 55% hemp with 45% cotton. Hemp also carries natural antibacterial properties. Hemp requires several hot washes to reach full absorbency (called prepping), and it will shrink A LOT - usually in one direction. Hemp absorbs like crazy and many moms swear by hemp Doublers/Boosters (see above) for night time cloth diapering.Bamboo (fleece, velour): Bamboo has a silky texture and is very absorbent. It is a naturally antibacterial fiber that will not lose its softness after countless washes. Bamboo fleece and velour are used in fitted diapers and as interior diaper fabrics. Along with hemp, bamboo is kind to the environment due to it being easily renewable and bug-resistant. Bamboo and hemp are still quite expensive fabrics, and that will show in the price of diapers that use them.Wool: Many experienced cloth diapering moms swear by wool outer layers. Wool requires some special care to keep its water resistance, and I wouldn't recommend it for a mom who is trying out cloth diapering for the first time. However, if you are really dedicated to using natural fibers, this is the only one with built-in moisture resisting qualities.What do you do with the poop?Modern diapers do NOT get soaked in an icky pail of wet stuff! Thank goodness!! Most cloth diapers will have the instruction: \"shake off solids\" and then wash in hot water with 1/3 the normal amount of liquid detergent. If you are new to cloth diapering, I recommend getting some disposable/flushable liners with your first purchase. If you line the diapers, then you just lift off the little liner thing and trash or flush it. If no liner, then you sort of shake poops out into the toilet. Some moms like to have their dirty diaper bin in the bathroom. So at changing time they take off the dirty dipe, set it aside, put on fresh diaper - then walk into the bathroom & shake out / flush, leaving the dirties in a container or laundry bag in the bathroom. Other moms (myself included) have two bins by the changing table - one for trash (shake out or put liner in there) and one for the diaper laundry. You can wash every 1-3 days, depending on preference, and how many diapers you have.Want to try it out?Lots of cloth diapering moms (myself included) started out just wanting to cut down on trash & expenses and were willing to \"test drive\" cloth for part-time use. If you want to try cloth diapering, pick the type of diaper that suits you best and buy enough for one day's use (usually 6-10 diapers or 4-6 wraps plus prefold/fitted). Maybe pick two brands and buy a few of each so you can see what you like best. Once you see that it's \"no big deal\" you can expand your collection - or \"stash\" of diapers, as we say. If you don't like it, there are several sites where people buy pre-owned diapers in good condition. Simply take a quick photo, post your items for sale on Diaper Swappers or eBay, and make your graceful exit from cloth.Note: If you have a cloth diaper retailer near you, DO go to a specialty shop. The people there can be extremely helpful and will answer any questions you have about the different types of cloth diapers.\n",
      "\n",
      "\n",
      "The joovy zoom 360 was the perfect solution for us. We couldn't justify spending the money on a mountain buggy terrain, but we wanted a very sturdy all-terrain jogger with a locking swivel wheel. I tried out a BOB as well, in the store. I also wanted a large sun canopy, and a seat that my daughter would be able to fit in for years. This stroller is affordable while still having most of the features I was looking for in a jogger. The biggest compromise for me was that I had wanted a hand brake, but honestly I probably don't need it. This stroller is so easy to push and stop that it is unnecessary.The fabric is sturdy and feels like it will really last.The foot rest is far enough away from the seat that my daughter will be able to fit comfortably in the seat for several years without outgrowing it. It is sturdy metal with drainage holes. (I didn't like the BOB's foot rest because it was made of fabric.)The locking swivel wheel is easy to lock or unlock. It doesn't shake when I jog. I use this on the woods trails and the stroller goes right over rocks, roots, and small stumps without a problem. The 16\" rear tires are great and make for a very smooth ride. The suspension is nice and springy.The canopy is AWESOME. I like that it is so strong and very adjustable. It also stands up well to the wind. The full sun coverage is one of the reasons I picked this stroller. It has two reflective strips on the front. The window is large and works great. The Velcro flap is held up with a toggle.The straps for the 5-point harness straps are adjustable; both in length and position, but the shoulder straps are wide enough that my 5-month-old tends to have one slip off a shoulder. I think it will work perfectly as she grows. They also have reflective stitching, which is nice. The buckle is simple for adults but hard for children. It would be nice to have padding and a chest strap, but I can live without it.The seat is sturdy and has lots of room for growth. I can still use this stroller for a 5 or 6 -year-old with no problem. The weight capacity is very high compared to similar jogging strollers. The seat sits up enough that a child can see out without leaning forward, yet it also reclines very easily for a newborn. When reclined, the back of the seat is mesh, which allows for good air flow. To block the sun or wind, I just hang a blanket over the back.Storage on this stroller is great. The basket on the bottom is large and can hold up to 5 pounds, it says. I put more than that in there just fine. The back of the seat has a mesh pocket that can hold up to 3 lbs. There are 2 mesh pockets on the sides in the seat for the child to use. There is also an included parent console that attaches to the handlebar with four Velcro straps. I like that it is not permanently attached and that it is included. The cup holders are neoprene and large enough and deep enough for Nalgene bottles, and the center compartment has a zippered cover. The center compartment is large enough for my phone, digital camera, and keys with room to spare.The handlebar is not adjustable, which is a bummer, but it is padded with foam and is a good height for me (5'7\") and my husband (6' 1\") and my sister (5'4\") to use comfortably. The runaway strap is attached to the bottom of the stroller, where the storage compartment is, which is great because it won't tip the stroller over if I fall down and the stroller gets away from me. The strap has Velcro to attach it to itself around the handlebar for storage.I haven't used the rain shield (because I don't tend to go jogging in the rain) but I like that I have the option. I am glad it is included.The tire pump is included and has a spot to Velcro into the basket below the seat. I had a hard time figuring out how to follow the directions to get the pump to work because the tube is stuck into the other end of the pump and I couldn't find it. It isn't screwed in, it is the brass-looking thing on the end that you can grab well enough to pull on, and then it comes right out and screws into the opposite end of the pump. It works very well and in no time my tires were ready to go. It would be nice if there was an air pressure gauge, but I can't be too picky I suppose.This stroller glides along, and can be easily pushed, turned, and stopped with one hand, even on grass or on a hill. Granted, my daughter is still very young, but I have tried it with larger children as well and have been impressed. I highly recommend this stroller. I wish they made a double version.\n",
      "\n",
      "\n",
      "We're keeping this stroller! After much research we settled on the Kolcraft Tandem double stroller and returned it immediately. My todder was too tall for the seat at 2 years old so we knew our days were limited in use. Now we have the Phil & Teds and LOVE, LOVE, LOVE it. It's my practical, every day stroller AND my jogging stroller and performs beautifully.Here's what I'm dealing with: a very tall toddler (just over 2 years), a very big and heavy 5 month old, and a Mazda 3 5-door vehicle.I'll touch on a few subjects and won't try to reiterate what's already been said.Size: Folded down it's definitely more compact than the Graco that fits our infant seat. I have a small car so I needed something that folded down nicely. This takes up a lot less room than the other one and like the other reviewer folds down much easier than my single jogger (Kool Stride/Kool Stop).Seats: Regular seat will fit my toddler for a while - she's about 3 feet tall and 30 lbs. She also has no problem climbing in and out by herself. It can be difficult getting my little guy in the back seat but I just have to be careful and watch his head on the bar. Only bummer is my toddler never really fit well in the doubles seat on the front section (too tall). Never had a problem with the newborn's feet hitting her bottom but her head always hit the bar at the top of the doubles seat. Since my little one is big we just put him in back before they recommended and just stuffed blankets to support his head (but definitely no jogging with him, only quick trips or walks). Haven't gotten to the point where my little guy's feet hit the diaper bag but my JJ Cole bag fits fine for now. Might eventually get the bag that goes with it. One trick about the little extensions for putting the doubles kit on the front is a) keeping it in the Lazy Ted bag that we leave in the car or 2) tucking them into the mesh pockets on the back section of the cargo space. Works fine for me and that way I always have them if I need them (like if I want to put my newborn in the front seat but don't want to adjust the straps - I just pop on the doubles kit on the front).Shading: Yup sunhats is the way to go. My toddler is tall enough that if the sun is high in the sky the shade does a good job. I purchased the Protect-A-Bub shade the other day for the doubles seat but haven't used it. Looks like it works pretty well, but I bring hats anyway. The rain cover that came with it is worthless as far as I can tell. Thought about buying the double shade but haven't decided yet.Ease of use: Fantastic. I'm pushing two heavy children and I am small. I use as a jogger (light jogging, but on hills in Valley Forge Park) and as my every day stroller. Maneuvers wonderfully. As a jogger it's easy to lock wheel - I get faster and faster every time. Wish the handlebar came out. It adjusts up and down but not out unfortunately (design flaw in my opinion). As an every day stroller it can be tricky at times. I just have to put my toddler in it first, then the newborn, and take the newborn out first and then the toddler (so it doesn't tip). Once the kids are in the car I can take as long as I need but it's usually quick. The doubles seat clicks off quickly, as does the front toddler bar. I usually rest the handlebar on my shoe so the road doesn't chew it up (another design flaw that the handlebar has to be down in order to fold up).The Lazy Ted is amazing! If you didn't get this and you have a toddler and newborn, get it! It folds up in a nice bag and you leave it in the car, along with the stroller. When you're somewhere and think \"man, I wish I had a bouncy seat\", voila, you do. Just grab the doubles seat and the lazy ted bars, assemble and you're good to go. We've used it several times in the last few months and are so glad to have it - playing tennis our newborn sat in the seat and our toddler chased after our balls for us, at our friend's house who doesn't have kids, the beach house, etc.Customer Service is GREAT! We bought the Graffiti Sports model that came with the doubles kit and Lazy Ted. One of the pieces in the Lazy Ted broke as soon as we got it and although I was annoyed that I had to pay shipping to Michigan, they replaced the entire thing and even gave me a new bar for the front since I had accidentally included it in the bag. And then they shipped to me free so it cost all of 7 or 8 dollars to ship.Really glad I got this stroller. It's worth the money and very versatile for our active lifestyle.\n",
      "\n",
      "\n",
      "We just recently purchased this stroller as I just couldn't help myself...its really gorgeous to look at! The all black frame is VERY sleek looking.We have had an uppababy vista since out little guy was 3 months old (Bugaboo cameleon before that) and so far are loving this just as much as the Uppababy. Here is a little review:Storage basket: Britax wins here. I really dislike that the Uppababy has the bar going in between the storage basket. Although I can fit an entire cart of groceries in my Uppababy...I have not tried to do this with the Britax yet. My only concern is that the Britax basket is more open in the back so I am not sure yet how it will hold smaller items.Fabric: Our Uppababy is cole/slate blue and shows no signs of wear yet. I believe that the fabrics are VERY similar is not almost the same. The Uppababy fabric feels a bit smoother compared to the Britax. I believe they would handle stains equally if they happened (although obviously the black on the Britax won't show much!)Wheels: Uppababy wins. I really feel like the Britax wheels look and feel cheaply made...although I haven't yet compared the smoothness of stroller too many times to really say.Belly bar: Uppababy wins. Its covered with a zip closure removable piece which I think will soon enough be very handy to throw in the wash!Canopy: Uppababy wins. Although the Britax canopy is really large and great, you can still get quite a bit more coverage with the silver canopy that pulls out on the uppababy and depending on where you live this might be importantFold: Britax wins! I was very pleasantly surprised with the simple fold on this troller. On the Uppababy there are still times where I can't get it to fold (takes me a few tries) as you have to push a button on the frame, pull the handle bar out and jam it to close (almost an art in my opinion) not entirely difficult but takes some getting used to. The fold on this is two very smooth pulls on the sides of the frame. Both are ABOUT equal in terms of trunk space it will take up. Although the Britax is wider (see Frame below)Harness: Britax wins. Although I really like the Uppababy harness I like how smooth the Britax is to put together and remove. Both are a 5 point harness but the buckle on the Britax is all put together and very simple. The Uppababy harness clips on each side then snaps together in the front. I think its kinda weird how high the buckle is on the child though...not sure if I like this yet. It sits on my 6 month olds chest v the Uppababy where its near the crotch like a carseat.Handlebar: Britax wins. (At least for me) Its a bit more padded and I like that it moves up and down v the telescoping of the Uppababy. Although both are quite similar. The Britax handlebar is thicker compared to the Uppababy which I think makes it more comfortable.Frame: This is a hard one....First of all I love my all black eclipse Britax b ready just as much as I love my Cole and silver frame Uppababy Vista so this is not about the color! I was SO pleased when the Britax arrived and it didn't have the middle bar on it like the Uppababy. This makes it great for taller parents as well as it frees up the basket space underneath! HOWEVER, I can't believe how wide the Britax is! I already have a hard time with going into stores with the Uppababy...and since I have only used the Britax outdoors I can't say how bad it will be! It is SEVERAL inches wider than the Uppababy!Peekaboo window: About the same. Both are magnetic with mesh. The Uppababy has a thing so it can be rolled up which I like and its also larger.Honestly, I LOVE both and will be keeping both. My husband thinks I am crazy for this....They are both great. VERY similar. If you are worried about price just go with the B-Ready. I honestly LOVE LOVE LOVE the Uppababy bassinet that I would not have been able to go without it. I know they sell a Britax bassinet but honestly I think it looks so cheap! I have yet to see a better bassinet than the Uppababy Vista one...its all organic, super soft, and extremely padded!If you do not need a good bassinet then I would say go with the B-Ready. I know it says its only to be used starting at 6 months, but we used out Uppababy seat starting at 4 months (with the snugseat insert)Another thing I will mention I don't know anything about the carseat adaptors...but I think you have to have a Britax carseat with this stroller? Personally I love Peg Perego Primo Viaggio 30/30 and Maxi Cosi  Prezi carseats so I love that they snapped onto my stroller with the chosen adaptor perfectly.\n",
      "\n",
      "\n",
      "UPDATE 11/20/13 - I went ahead and used a tiny bit of WD40 and also thoroughly cleaned the carseat, base and stroller and all the mechanisms started working like new again.  No more issues opening or closing the stroller and no more issues getting the seat out of the base.My child was finally moved out of this seat at 14 months and placed in a transitional carseat (rear facing of course) and I sold the entire system on craig's list for $150 including two bases.  For something I got so much use out of, to be able to resell it for that amount of money is unheard of.  I even had people offering me more after I had already sold it.  So I am now convinced this was a very smart purchase and I sure got a lot of use out this travel system.  I am not going to lie I was almost tearful seeing it go to a new home, I had become that attached. *********UPDATE 7/23/13 - Okay I have been using the heck out of this travel system for 11 months now.  I am not as enamored with the system as I was when I first bought it and here is why:1) The fabric gets very very very dirty and grungy looking and it hard to take apart and clean2) The stroller no longer easily opens with one hand...I have to play with it.  I am afraid it is due to all the use (we use this thing a lot and it has been on a lot of plane rides!) but the mechanism is frustrating now.  I am going to try some WD40 soon to see if that will help.3) My kid is 11 months old and still uses it so that is a BONUS!  Yeah, a break from buying more car seats for a while.  He is  big kid too.4) The mechanism for getting the car seat out of the base is kind of tricky now too.  Most of the times it is fine but some days I don't think I will ever get it to unlatch!I still like it but for the price tag, I would get a Britax stroller and infant car seat combo in the future, if I ever have more children.***I am a 3rd time mom, but it has been 5 years since my last baby.  I wanted a car seat with a stroller that would be easy to use by myself and would be easy to install in the car.  I also wanted a one with a good safety rating.  So after reading multiple reviews and consumer reports on many different travel systems I found this one and went ahead and took the plunge, site unseen (they don't carry Chicco at our local walmart and I live hours away from a store that does).  My baby is now 5 weeks old and I have been using the heck out of the system so here is what I think so far:Car seat pros:The car seat is EASY take in and out of the base.  I had a Graco Snuggle-ride with my last one and I thought that was easy but the Chicco blows it away.  It was also super easy to install in my car and in my SUV.  The clips to attach to the LATCH system and really easy to use and the level makes it easy to know you have a the proper angle for the seat.  It was much more difficult with the Graco seat, that is for sure.  The straps are easy to use and adjust and the car seat looks very nice and stylish.  I got the Miro patterned fabric and it is lovely and gender neutral which was a big deal to me because this was a surprise baby.  It just looks and feels to be of high quality.Car seat cons:This seat is heavy. I carry it a lot but I always opt to use the stroller with the car seat it I am going to be walking any short distance because the seat with my baby just seems like a lot to lug around.  I know my Graco one wasn't this heavy.  Also it doesn't fit into a shopping cart very easily making shopping with baby (without the assistance of another person) pretty difficult.  I finally started just carrying my infant son with my baby K'tan and leaving the car seat in the car.  Now you can turn the car seat sideways on top of the cart or fit it in the actual cart but that leaves little room for anything else and there is safety issues too.  So if you are a single parent or don't have a lot of help with going grocery shopping this could be a concern for you while baby is small and can't sit up by themselves.Stroller pros:First off, I LOVE this stroller.  I have NEVER had a stroller that is so easy to use and pushes through any terrain with such ease.  I keep this stroller in the back of my vehicle at all times and I pull it out and use it so much.  I can easily open this stroller with one hand and fold it with one hand.  That is literally unheard of in stroller land, even with a cheap little umbrella stroller!  I have taken this stroller on a nature path full of uneven rocky terrain without a hiccup, it rides so smooth.  The car seat fits in so easily to the stroller making it basically effortless to get going, even when I have 2 older boys and a infant get around by myself.  Also I am on the tall side (5'9\") for a girl and I love the adjustable height of the handle - no longer will I kill my back pushing a stroller!  I know when my kiddo outgrows the car seat we will still use this stroller for a few years.  It has a nice big basket at the bottom, multiple drink holders, a snack tray and a small item tray for the parent too.  I have honestly used this stroller way more than I used the Graco one the entire time I owned it.  I think this stroller really makes the travel system.  The car seat itself is great but the stroller really takes this system to another level.  Did I mention how easy it is to open and fold the stroller and you can do it with one hand?  Seriously I can't say enough about this stroller!Stroller cons:The only con I can find right now is that this stroller is massive!  I have a Honda Pilot and it takes up a good chunk of my back storage area...and that is saying something.  Someone with a smaller vehicle would probably need to see the stroller folded to tell if they are going to have room for it in their vehicle.All in all this is a great system for myself but I don't think it would work for everyone with the weight of the car seat and how big the stroller is.  Probably be best to view and get your hands on the system in person before buying.\n",
      "\n",
      "\n",
      "We love our Vista with PiggyBack.  There are answers I wrote for someone considering the PiggyBack to be shared between twins with a newborn riding.  We use the PiggyBack on a 2011 Vista.  I have no reason to think it would work differently with an earlier model, but haven't tried it.* How easily does the Vista maneuver with the piggyback board and bassinet/car seat/ toddler seat?I found it an easy one handed push with my infant in carseat (up until she hit the 30 inch height limit around 12 months), even when my 45-50 lb preschooler was on the PiggyBack.  With the toddler seat forward facing (rare as I'll detail below), it's still an easy one handed push with my 54 lb kindergartener on the PiggyBack with my almost 30 lb toddler in the toddler seat.  With the seat rear-facing (our typical setup), DH still jogs pushed our ~85lbs of kids plus 10-15lbs of stuff.  I find it harder to push with that much weight when the toddler seat is rear-facing and I'm more likely to push our K kid to walk when he's feeling lazy (and these are often distances that he walks when his sister isn't around).  I will sometimes push the 100lbs and the only thing I've tried that was easier was a double Bob with similar amounts of kid weight.  On smooth surfaces, I still find it easy to push, even one handed.* How tall a child can the toddler seat accommodate? (I understand the canopy on the latest model is height adjustable, but it's not clear what the new height limit might be)When he's allowed to sit in the seat, my 45 inch kindergartener still fits in our 2012 toddler seat, but barely.  He is over the advertised weight limit though.  We did it recently when he was tired and his sister wanted to ride the PiggyBack.* How tall a child can the piggyback comfortably accommodate and does the child tend to bump their head/do parents often bump their feet on the board?The handle on the Vista goes around the child's back.  I (5'2\") could fit fine on the PiggyBack but I'm worried I'd break it if I rode it regularly. With the PiggyBack, the 55 lb weight limit is all you need to worry about.  Neither me (5'2\") nor dh (6'4\") ever bump our feet on the piggy back.  We only use it with the handle extended all the way to give the kid enough space.  As I said dh runs with it regularly (which I personally don't think is good for our stroller).  He typically pushes it one handed when we are just walking and tends to be slightly off-center.  I'm not sure if that's his style or his accommodation to the PiggyBack.  When I've asked he said he's never kicked it though.* Has anyone used the piggyback for two children, and does the stroller handle well with two children riding the board?I've never put 2 children on the board at once.  The handle goes on either side of the board and the board has a 55 lb weight limit.  I'm not sure there would be side to side space for 2 kids at once but I don't think the issue would be handling since it handles fine with 55 lbs of kid on the PiggyBack.  I suspect you are pushing the weight limit on the PiggyBack for 2 kids to ride at once if your kids are pushing the 35 lb weight limit on the RumbleSeat individually.* How easy is it to switch between the bassinet and toddler seat - e.g. if mid-outing we need to carry the baby to allow an older sibling to sitYou don't have anywhere to put the bassinet or carseat if you need to switch mid outing.  We put our baby in the toddler seat all the way reclined a few times pretty early and UppaBaby sells an insert for it that you could pull out if a big kid needed to ride and you wanted to wear the baby.  We brought the toddler seat when we were concerned about our preschooler on the PiggyBack for a couple day long walking outings.  The reality though is we never had him get too tired for the PiggyBack even when he was (often) too tired to walk.*Do you prefer the baby in the bassinet or carseat or does it not make a difference?  I found the older child had more room to ride with the carseat + adaptor than the bassinet and we liked the flexibility of using the vista as our snap n' go as well since it's so much easier to push.*Why do you keep the toddler seat rear-facing?  That seems weird.We keep the toddler seat rear-facing because about the time we might have forward-faced our toddler, she started riding the PiggyBack as the more mobile kid in her nanny share and just because she wants to be like her big brother.  At 20 months, she rides the PiggyBack while he walks more often than she rides in the seat (though her brother didn't give up the seat until she was born when he was 3.5y so each kid is different).  For such a small toddler, it's easier to hold onto the seat with the footrest all the way up (like you would for a just learning to sit up baby in the upright position) than it is to hold onto the handle bars (which our older preschooler did from the start).  That isn't an option when the seat is forward facing.  We just leave the seat rear-facing so she has her PiggyBack \"hand-rail\" and so when both kids are riding they can face each other and interact which they both love.  If we expected her to be in the toddler seat for an extended period of time though, we'd probably turn it forward facing.If I could change anything about the PiggyBack I'd want it designed to hold up to 75 lbs because our son would probably like the option of riding long into the future and as he nears the weight limit, I can tell that the PiggyBack wheels don't roll quite as well now when he's one (not an issue when it's just my 20 month old daughter).  That said, he was 54 lbs at his last pediatrician visit and he might have gained more than a pound in the last few months when I've noticed that it's starting to get harder to push with him on the PiggyBack.Seeing how much our toddler loves the PiggyBack though and the ease of adding a friend without a car has given us even more value than I expected and if I had to make the purchase again, I'd do it in a heartbeat.\n",
      "\n",
      "\n",
      "I own the 800ft range version of this, which I am sure has little to no differences besides a slight increase in range. The base station unit is very small, very easy to place, very easy to setup and use in general, and has excellent audio pickup. My unit even has an amber colored LED based nightlight on top that you can switch on or off by a push. Nice!The receiver unit somehow manages to impress me even more than the base. It's TINY, it runs on batteries or included AC adapter, has 5 LEDs to indicate intercepted audio level, and the speaker level and clarity does quite nicely. Also, it has a belt clip that comes off very easily if you don't want to use it.The system has four 900mhz channels to choose from. I've only had this thing less than a day, so I can't yet verify the claims of distance nor can I attest to longevity of the units.Two downsides I'd like to comment on, before I digress into what can be done to these devices to make them BETTER.First, the base is corded... Meaning the adapter is hardwired to the unit. I don't like that, because I like to take my electronics to whole new levels for one, and for two, if the adapter dies... you don't just replace it... you find one that matches the voltage requirements and then you have to do some cutting and twisting of wire at the very least. That didn't impress me at all, but then after what I did to my base unit, it's a non issue anyway.The second thing I don't really like is the receiver using AAA batteries. For one, AAA cells don't have NEARLY the lifespan of AA cells, and for two, I wish it used AA's because that's what almost all my stuff uses. I picked things to be this way on purpose - I like universiality. ;-) It wouldn't have been a tough thing for them to build it to use AA's, it would have had a much longer runtime, and it wouldn't have that badly increased the size of the already absolutely tiny receiver.Now on to the fun stuff. I got this thing not to monitor children, for I have none, and not for chickens, for I have none of those either. I got this to MODIFY, whee hee! And for those of you who are interested, let me say this thing is EASILY modified. It took me less than two hours to open up the base, desolder the hardwired power adapter, and install an LM317 based 6.5 volt regulator circuit with a very common 5.5mm DC power jack. The whole operation went buttery smoothly, I must say, and now my base unit will accept anything from 5 - 15 volts with NO problems other thar than a little warmth and probably a little higher current drain. I now have a base unit that will run on any of the hordes of easily and cheaply available DC adapters (think thrift store or yard sale) and in point of fact runs brilliantly on a car cigarette lighter adapter and is running GREAT out on my porch at this very moment on a small four cell AA pack. CORDLESS, baby! I can now plant my base unit anywhere, even leave it outside on a regular basis with a little weatherproofing say from a plastic ziplock baggie or such as that. God do I wish I'd had one of these when I lived in the country in the hills of Tennessee... I could have used this to listen to the local wildlife from the comfort of the indoors whenever I liked. Anyways... distance testing comes tomorrow, I'll be running it on a stronger 6 cell pack for full range and distance testing it thoroughly.Just in case some of you think this is a crazy useless idea... consider the applications:Fully cordless operation on batteries, perfect for power outages or monitoring areas with no AC receptacles.Easy replacement with any common center positive DC adapter with the proper polarity, plug type, and voltage range.MUCH greater spread of potential uses, including easy monitoring of areas outside the home like porches, garages, barns, sheds, wildlife of the two or four legged variety... the list goes on and on. I plan to modify another and keep one for whatever use comes along, and the other will likely be placed permanently in my car to monitor it against breakin or vandalism when I am home and not watching it (who has the time to waste on watching their car, even in a rough neigborhood?). The second I hear any suspicious noises over the receiver, I can go to my window to see what's up. Paranoid? Not at all... last spring I discovered that my car was being used as a worktable by some people that were moving out and didn't care what they did around here anymore.One could even use a pair of these as a type of intercom between two areas, exploiting the four channels to create a full duplex audio link. The more I think it over, the more ideas I get. :-)Anyway... bottom line is these are GREAT little room monitors, and have great potential with a little hacking. Very affordable, very easy to use, and great features, and so far great reception. They have my vote.UPDATE:It's now been 11 days since I bought this thing and modified it, and now I know a LOT more about them, and have more deeply modified both the base and receiver.1) The receiver unit has inside it a tiny potentiometer for squelch adjustment. I found that my receiver was prone to cutting off when there was still plenty of signal to be had, IE, I could get more range. SO, I set my squelch adjustment to completely OFF. No more annoying \"BEEEP BEEEP\" even when signal is GONE, and if you're willing to put up with a bit of static, you can get a LOT more distance.2) I increased the transmit power by adding a very simple PN5179 transistor RF amplifier between the antenna output and the antenna itself. I have probably gained about .1 - .25 watt, enough to be quite noticeable, and harmonic output is still very low. Bear in mind this no doubt violates FCC regs, so do this at your own risk or not at all.3) I did fairly extensive distance testing both before the power increase and after, and have found this unit to perform quite impressively especially in open air conditions. During my field tests BEFORE the power boost, I placed the transmitter on the passenger seat of my car and went walking with an AOR8200 MKII scanner, and found excellent reception in excess of 200 feet (that's through car sheet steel, mind you), and after the power modification I found excellent reception as far away as 300 - 400 feet with the exact same environment and positioning of car and transmitter. If I am indeed to expect 800ft of distance from the stock transmitter, which I believe, then this modification should be getting me as much as 1600ft in the open air. I have not tested this, but I have reason to believe it is true.4) I have since tested the base unit on various power sources, from a four pack of AA NiMH cells to an 8 pack of AA NiMH cells, as well as 12VDC from AC adapters and my car cigarette lighter socket, and have found only the four-AA pack to be wanting, as it only provides 5VDC or just over, and the base now uses 6.5VDC. Temperature inside the case seems to be more than reasonably low, and current drain appears to be less than 50mA no matter how I power it.5) Before the squelch adjustment, I had sporadic losses of signal and difficulty at times in reaquiring signal once lost. After the squelch mod, needless to say, it never cuts out and I have had NO problems of any kind with either the base or the receiver.6) Inside the base unit is a tiny potentiometer that adjusts the microphone level. I was surprised to find that it was set near middle and had MUCH more available gain if I so chose to set it that way. It's my feeling that the stock setting is already a little hot, so I didn't increase it but a hair to make it more suitable to use for detection of subtle noises, for security type situations and the like. In a very noisy environment, I believe this pot could be set much lower for much better clarity in the received audio, although I have not yet tested this theory.Have fun! :-)NR\n",
      "\n",
      "\n",
      "I am a third time mother.  When my older two boys (ages 7 and 4) were babies I had the traditional, full sized, big high chairs for them.  They took up a lot of space, were hard to keep clean, and very \"clunky\" for lack of a better word.When I was pregnant with my baby boy Conner, I saw this and knew that when it was time for a high chair that this is what I was going to get.My primary reasons for choosing this high chair at first were the fact that it saves space, and that it reclines.  My baby boy will be 5 months old on 6/25 and just started solids a couple weeks ago.  Reclining is a must at this point as he cannot yet sit up without support.  Now that I've used it however, there are so many things I love about this chair!  It very easily wipes clean, but the pad is machine washable if it gets really dirty.  My baby is only on stage one foods/not feeding himself yet so I've been able to just wipe it down.  However, I'm sure once he is feeding himself things will get messier.  Thus, being able to throw it in the washing machine is a huge plus.  The high chair was very easy to install and fits perfectly on one of my dining room chairs.  It feels very secure; doesn't slide around like I've had with other boosters seats. Speaking of boosters seats, this one converts to one so that saves money down the road as well.  The tray comes off and on very easily and is easy to clean as well.My son is very comfortable in this.  I've seen complaints about the straps in other reviews but they have not at all been an issue for me.  They fit securely and just right.  I also like that my son is able to sit at the table with the family during meal times.  I also used it to sit him in when I am cooking or cleaning in the kitchen and it keeps him very happy. The price on this is great, and for getting two products (high chair and booster) in one, you really cannot beat it.  I've looked at other models of this type of high chair, but this one is by far the best in my opinion.We're done having kids (3 is enough for us!) but when I go to baby showers in the future, or have friends and family that have babies this will be the present I get for them.  I highly recommend this to anyone who is on amazon looking for a high chair.  You will not be disappointed!\n",
      "\n",
      "\n",
      "OVERVIEW: My daughter has to be one of the wildest sleepers around!  Ever since she started sleeping in her crib, we had to swaddle her or either have her in a sleep sack of some kind.  Otherwise, she would either freeze to death or smother herself since she will sleep on every inch of her mattress  at one time or another during the night.  We have a video monitor on her at night and it's and the feats of acrobatics she undergoes are amazing!  Now that she is becoming a \"big girl\", she loves mimicking everything her father and I do, including wearing robes at night.  Unfortunately though, Riley couldn't keep a robe on after her bath because her play is as wild as her sleep.  What's a mom to do?  Introduce her to the Big Kid's SleepSack Wearable Blanket from HALO!PRICE: The HALO Micro-Fleece Big Kid's SleepSack Wearable Blanket can be purchased on Amazon for $17.99 -$19.99.  See my complete links in all available colors below.PROMOTION: HALO is donating $1 to SIDS Awareness for every new Facebook \"Like\" they receive between now and Mother's Day!  Help them raise more money by \"Liking\" them now!Make sure to familiarize yourself with these safe sleep practices so as to protect your baby from SIDS.  Click here for more information.  You can also take the Safe Sleep IQ Quiz and send Safe Sleeping Tips to your friends by clicking here.COMPANY'S DESCRIPTION:The Big Kid's SleepSack(tm) wearable blanket was designed for toddler's nighttime comfort and routine. It helps prevent kids from kicking off their blankets, so they stay warm and comfortable all night long! Foot openings provide mobility and comfort for Toddler.The Big Kid's SleepSack(tm) wearable blanket was designed in response to countless requests from parents for a larger size. It has been \"kid tested\" and mother approved for comfort, ease of use and fun! Made of premium micro-fleece each product comes in a reusable vinyl pouch with fun handle that can be used as a travel bag for toys or to take the wearable blanket with you.MY EXPERIENCE: I was very happy to receive the HALO Big Kid's SleepSack because I could tell right away from the very soft purple micro-fleece to the embroidered princess on the front, that my daughter was going to love it.  I was surprised to see how long it was!  My daughter is 18 months old and in the 85% for height, so I ordered her the 2T/3T size.  Sleep sacks are great if they're not too tight and HALO made sure that the Big Kid's SleepSack wouldn't be.  I think Riley will actually be able to use this for several YEARS!  I bet you can't say that about many other toddler products!I inspected the garment carefully and noticed that the zipper seemed pretty heavy-duty and the stitching around all of the seams was sturdy.  I thought that the princess was embroidered nicely on the front and showed a lot of attention to detail.  The only thing I was disappointed to find was that the SleepSack had two feet holes at the bottom.  Now, don't get me wrong, I like the fact that you can slip the child's feet through the bottom when they're still awake and they can walk around in the sack before you put them to bed.  I just don't like that once the child is put to bed, you have to dress their feet super warm since they will be sticking out of the SleepSack.  My daughter is such a wild sleeper and so curious, that even if we were to slip her feet inside the sack once we put her to bed, she'd definitely put them back through the holes.  In my opinion, this sack would be perfect if instead of just holes, there were snap-on micro-fleece booties that you could put the child's feet in.  This way, they could walk in the booties if they wanted to, but the booties could also be removed if the child preferred to wear their own slippers while they were still awake.  With the snap-on booties, the child's feet would stay cozy and warm along with the rest of their body once they were tucked in for the night.I slipped it on Riley and watched her walk around in it.  In the large purple SleepSack, she kind of looked like Grimace!  She was able to maneuver very easily and her feet did not slip back out of the holes on their own.  Because it is made of micro-fleece, I didn't actually have her sleep in it yet, though.  Here in Texas, the temperatures are already in the 90's, so she would have been much too hot wearing the micro-fleece.  I know what one little girl will be wearing once the temperatures cool down again...her HALO Micro-Fleece Big Kid's SleepSack Wearable Blanket!BOTTOM LINE: The HALO Micro-Fleece Big Kid's SleepSack Wearable Blanket is a great investment which will help keep your child warm while they play and while they sleep.  It is well-made and even has a fun character embroidered on the front.  They come in several different colors and sizes and are very large and roomy for years of use.  I don't especially like the open foot holes in the bottom of the blanket, because now you will have to make sure to dress your child in very thick socks at night.  I don't feel that this is a deal breaker though, and still think it is a very good buy and something your child will surely enjoy.Product Review Rating 4 Stars\n",
      "\n",
      "\n",
      "I will try to keep this short.  Have tried many many types of cloth diapers...Thirsties are my fave brand. So happy with their products and customer service. Bonus is that they're 100% US sourced and manufactured. All Thirsties products are hand sewn by American ladies (located in the South I believe).  The best kind of cottage industry, IMHO. I am a bit of a Thirsties cheerleader these days, lol.  And no, I don't work for them, just a very satisfied customer.After much experimentation I decided to go with Thirsties AIOThirsties Duo All in One Snap, Meadow, Size One (6-18 lbs)for daytime and Duo Diaper SnapThirsties Duo Diaper, Mango, Size One (6-18 lbs)for night, car trips or whenever baby may go an extended period of time between changes. The duo diaper has the wonderful double gusset which means there is absolutely no leakage. The insert is easy to get in and out so you don't have to stick your hand in poo to remove it. I also love that the insert has two layers - hemp and fleece - that snap together.Thirsties Stay-Dry Duo Insert, White, Size One (6-18 lbs)You can use either or both inserts depending on the level of absorbancy required. The snaps and materials are highly durable -- they still look great after daily washing for months. They fit my 6 mo old perfectly! And not too bulky, either. Highly recommended.For an ultraslim silhouette, I prefer the Thirsties AIOs. Sadly they do not have the double gusset that I love. They are very easy on/off. There is a tunnel under the second layer of fleece, into which you could slide an additional insert.  I have never tried it because I use these diapers specifically for their lack of bulk.  They are great for daytime or for potty training (because baby will be able to remove them herself by potty training age, esp if using velcro closures).  The only downside to these is that they take a while to dry if you hang them on the line.  I line dry all of my diaper covers and AIOs because I find that they get roughed up in the dryer. On a side note, I don't buy velcro diapers anymore because I found that the velcro falls apart with repeated washing.  Snaps are much better.At first I felt that it was more expensive to buy the Thirsties, because you have to get them in 2 sizes. It didn't take long to realize that \"onesize\" diapers are actually far too big for young infants and too small for toddlers of potty training age. After I brought my 6lb baby home from the hospital I discovered that NONE of the diapers we'd bought came CLOSE to fitting her. I had to buy an emergency stash of Thirsties XS size diapers and covers.  Great for petite babies and preemies! She was able to wear the Thirsties size 1 at 8 lbs and the other brands' one size diapers at around 14 lbs.  If you have a large baby, perhaps the one size would work for you, but my small baby wasn't able to use them until about 5 months old.  Right now, at 15 lbs, she can fit both size 1 and size 2 of Thirsties diapers (so double stash bonus for a little while, yay!)\n",
      "\n",
      "\n",
      "Background- I've been using Grovia diapers for four years (when I bought them they were called grobaby). I have 6 shells and 12 inserts. I purchased them for my oldest daughter and used them only part time for 2.5 years until she was potty trained. She still needed pull-ups at night for a long time, so I used these until she was ready to go without. She was probably 30lbs when she stopped wearing them, and they fit well. They were stored for a year until I had my other daughter, who is now 5.5 months and exclusively CD'd. I didn't use them for either girl until about a month old, since I had tiny babies.Pros- They're (mostly) organic. When they were new they were so soft and thick. Now they're definitely worn in and not so soft anymore.-I love how easy they are to use. As a first time CDer, these were perfect. Just snap the inserts in, strap on baby. Easy for pretty much anyone. No stuffing, unstuffing, folding, etc.-I love that I'm able to reuse the shells a couple of times until they're stinky or pooped in, or too wet. Some people didn't find this to be true, but after four years of use I can confidently say it's possible, and happens often for me.-I find them easy to wash, and love that the insert and shell are separate, since I machine dry the inserts and line dry the shells, which has helped to prolong their life. Contrary to some reviews, I don't find it difficult to clean poop from shells. It just agitates out of the mesh in the washing machine.-One size. Although I didn't use these diapers for my tiny babies, they are absolutely a birth to potty training diaper. My oldest was 30+lbs when she stopped wearing them (almost four yrs old). She has always been a small kid with no chunk though, so I'm not sure how long a thicker baby could wear them for.-Designs and colours are cute, nothing obnoxious, and I like that the snaps match the shell colour. Makes all those snaps less noticeable. The snaps are very well made and strong; not one has come loose or fallen off.-Versatile. Not only can you use one shell multiple times before needing to wash it, but you can also use the shells as covers for prefolds and other diapers needing covers. I used prefolds quite a bit during my daughters' first few months (can get a more custom fit on tiny babies, and I found them to be extra soft on that delicate new skin). I didn't bother buying a bunch of sized covers for my prefolds, and used the grovia shells instead. They worked perfectly!-Great for travel/shopping etc. You can leave the house with an extra shell and a few inserts, instead of 3/4 whole diapers, since the shells can be reused. I've been out with only one shell before, and I was glad I had these. I quickly rinsed the poop out of the shell, dried under the air drier in a public bathroom, and snapped in a new insert in less than 5 minutes.-Soft shells, soft elastic on the legs, very few red marks.-Few blowouts or leaks. I've only experienced a few leaks, and I think this is mainly because some inserts were too long for the shell in its smallest setting. When the shell went up in size, the issue was fixed. Also, the aplix tabs (Velcro stuff) makes these diapers super custom and snug, great for putting a CD on a squirmy baby. (The aplix also happens to be a con)Cons- the Velcro tabs. This is probably due to the fact that they're 4 years old, but the tabs are starting to curl up and not stick so well. This only began to happen, but may have began sooner if I had CD'd exclusively the first time. I can switch them out for snaps, so I may do that eventually, since the rest of the shell is in perfect condition.-Holds stink. The inserts are still in good condition, but I've had problems with the nasty ammonia smell. They really seem to hold the stink, so stripping and a religious wash routine has been key to keep them fresh smelling. Maybe this has been my own fault, because I had no idea what I was doing in the beginning, but who knows.I sun bleach them regularly, so they still look good, but they need to be machine dried for at least 20 minutes to stay soft.-Absorbency. My biggest issue with these diapers is that they aren't absorbent enough. My kids are heavy wetters, so I've never been able to use these at night. Even with the booster. Also, when wet, the inserts ripple up or buckle and don't seem very comfortable. My baby's bum gets red marks on it if left on too long, from the ripples of the top layer of the insert. I use the bumgenius freetimes with microfiber inserts at night and have no issues. Although Id rather have a natural fabric next to my daughters bum at night, the microfiber wicks the moisture away so well and we don't have to double up.-Consistency. On the smallest size, some inserts are too long for the rise of the diaper and poke out, which can cause leakage. The inserts aren't uniform in size, which isn't a huge issue, but some are longer or wider than others which is just a bit annoying.-On the bulky side. My bumgenius freetimes are less bulky, but not by much. This doesn't bother me too much, since it makes perfect sense that a cloth diaper be bulkier than an uber trim disposable.Verdict- love them enough to buy more, but would probably get the snaps next time. I love that Velcro is easier to use, but the diapers would last much longer with snaps. I'm also curious as to how the new grovias compare to the old ones. I very much recommend these!!\n",
      "\n",
      "\n",
      "We did my son in cloth diapers from birth through potty training - prefolds and covers, mostly pull on pants.  Cheap and effective.  Planned to do the same with my twin girls but at 10 months our drier died, I got snowed under with laundry and sucked into a 'sposie slump, and there was no going back.  Now pregnant with #4 and I want to do him in cloth the easier, hip, modern way - bought some BGs and Fuzzibuns one-size to use on my girls for now to figure out what I like.  Also waiting on some Flips...What I LOVE about these - It couldn't be easier.  Stuffing them takes more time than laying a bunch of prefolds flat but not nearly as much time as running to the store for diapers.  And getting them stuffed and stacked JUST SO soothes the OCD side of me (which you wouldn't know I had, to look around my house...)Getting them ON the baby is no more work than a disposable - no taking off shoes and pants to deal with pull on pants, no seperate cover, etc.  Fast and easy.Fairly trim.Wash very well - I got the snap ones as I know from past experience dealing with those velcro diaper snakes is NO FUN.  Every one complains about the velcro not holding up.  I can see it being more adjustable, but the snaps make for a nice appearance and will hold up well over time.  So far even on the pale green (sweet) cover, poo stains come out 100%.  The microsuade liners come pristine white each time and do not pill - they look amazing after several washes.They fit both girls - one is 29 pounds, one is 35-36.  Fuzzibuns one size are trimmer and maybe more fancy looking but do not fit my bigger girl and are tight on my smaller girl, whereas these on the biggest setting are comfortable on my bigger girl and on the second biggest fine on my smaller girl.  If you REALLY want a one size that will take you to potty training, these are better than fuzzibuns.  I suspect Fuzzibuns will be nicer/trimmer on a small baby, though.I am really hoping to have my girls trained by the time #4 arrives but I could have 3 in diapers for a while and these will take some of the sting out of that.Basically, love love love these diapers.Cons:PRICEY - never would have splurged like this before, but I figure I'm only doing this once more, I want to experience it all.  (And hopefully past 4.0 there won't be many ways to improve - seriously, how could they be better??? - so I can sell them and get a large portion of my $$$ back)Questionable on the absorbancy - they work pretty well for 2, slightly over 2 hours - but it can get dicey and I am still not convinced there's any way to beat a prefold for how much it will hold with how trim it is.  So for naps, or long trips out - depending on what changing capabilities will be like - If I can't change every 2 hours - I am sometimes more comfortable using prefolds.  I am still getting in the swing of not being able to go hours and hours in disposables...Take up a lot of room in a diaper bag - hence my wanting to try Flips, I suspect they will be easier to travel with, as well as more versatile.  Admittedly, travelling with these for ONE baby won't be as bad as for 2.  (But if I do end up with 3 in dipes at once, I may need to trade in my diaper bag for a carry-on bag with wheels LOL...)Elastic is supposed to be replacable but I don't know how yet - it's SUPER easy in the Fuzzibuns, seems more complicated in these.  But possible.  So they say.The SMELL...  look around and you will see complaints of SMELLS on these dipes.  I was using Charlie's Soap and I had stinky dipes.  Many moms admit to switching to Tide - gasp! a sin in the natural world - which I have tried - and it seems to help.  I am searching for the perfect way to combat the smell, something in between \"natural but doesn't work\" and \"never do that, you'll wreck your BGs!\"  but the smell is not a big enough deal to not love these dipes.I don't see myself going 100% pocket dipes but I see myself reaching for these a lot.  Maybe 90%.  Trying to figure out the ideal number to have.  I really, really love them and wish I had gotten into them sooner.  But if I had, I probably would have gotten the velcro ones, and these are so much better - it's just as well.  Baby #4 is going to have some awesome diapers.(I don't realistically see myself going right in to these at birth though - newborn prefolds and prowraps covers are cheap and simple and IMO the best way to go with a newborn who poops a lot...  will likely start these around 2 months or so - can't wait!)\n",
      "\n",
      "\n",
      "The last thing we wanted was to purchase more strollers (we already have 4). However, nothing we own was ideal for a Disney World trip with our two boys. Our Jeep Liberty stroller is awesome, but cumbersome for travel (heavy, awkward, doesn't fit regular trunk space). Our umbrella isn't comfortable for a long day, and has no storage. Our sit-and-stand won't allow our 4-year old to rest well, and is also big and heavy (especially once you add > 50 pounds of boys and your own stuff). A bigger car rental or stroller rentals cost more than purchasing two of these strollers, therefore, it was a great investment for future trips. We wanted lightweight strollers, that fold compactly to fit in a standard car rental with luggage and get on and off buses easily and have storage space for all the things you end up carrying around the airport and theme parks.My husband's big concern was weight and maneuverability. At 14 lbs, it's not bad for one-handed carrying, and our 1 1/2 year old can easily push our 4-year old throughout our house easily! Got the red stripe (best price) - I'm not a fan of red, but it is more of a \"wine\" color and is actually quite sharp. Haven't taken it out of the house yet, but the sun shade is bigger than I expected (bigger than our Jeep umbrella's). The recline seems to be good enough to keep the boys comfortable if they nap. I was able to recline it and push it back up while my 1-year old was sitting in it. He fell asleep in it while his brother was pushing him around the house. The storage is plenty for a lightweight stroller, and it's sturdy enough to hang bags off of. I read about side pockets in other reviews (which are not pictured and didn't come with them, but are apparently supposed to) - so the manufacturer is sending them out.  They're really protective fabric for the hinges, but may function like little pockets.  So they have great customer service, too! Can't wait to use them on our trip!Update: We used the strollers during Labor Day weekend at a festival and shopping. These strollers easily held a small cooler, extra clothes, our beverages, freebies/purchases, and I hung my diaper bag on the handle. My boy could even fit his little water bottle in the hinge pocket. The strollers handled well on dirt and grass, and it was nice to easily maneuver inside stores. It was even easy for one person to push both strollers! Opening and storage was a breeze. So glad we got these! The little one fell asleep comfortably. I do wish the shade was adjustable, but I'll probably just attach a bigger one.Update 2:  These were wonderful for our trip to Disney World! The cup holder and storage pockets were functional and useful. I could fit our jackets, extra clothes, etc. in the baskets. Yes, the back bars are a nuisance when you want to pull things out, but probably the only con that I can think of. I just made sure that our bags weren't large, and I hung our cooler bag on the handles for easy access.  The shade attachment worked fine on the one stroller, and I didn't find the need for my older child (since he could wear a hat/sunglasses). When they napped, we just covered them by hanging a blanket/jacket on the shade. It was so nice to move easily through the crowds. It was a lot more convenient to gate check umbrella style strollers than full-size ones.  It's nice to have a stroller that accommodates a child up to 50 pounds because the parks can wear out any child. I can't wait to use them on our next vacation.\n",
      "\n",
      "\n",
      "When shopping for an exersaucer, I came across the Bright Starts Around We Go Activity Station.  I read all the reviews thoroughly before purchasing this one, and it has turned out to be one of the best investments we've made.  My daughter was 5.5 mo when I was looking for something that my daughter can be in vertically after feeding to minimize spit ups and to also allow me to grab something quick to eat.  This exersaucer has accomplished both and much more!  My daughter is very active with her legs and does not like to be confined to car seat, high chair, glider, swing, but she absolutely loves this unit and wants to be in it even 1.5 mo later.Here's what we like about the unit:1. We like the fact that the baby can \"walk around\" the activity center so she doesn't feel like she's restricted and confined.  I think this bit of freedom and control is what keeps her wanting to go in.2. Unlike the traditional exersaucer where the child just sits in the middle and rotates or bounces up and down which makes really loud and annoying noises because of the plastic tubes, the Bright Starts is more quiet with just the sound of the wheels.  The wheels move very smoothly on the tile floor.3. The keyboard with the 3 categories of sounds (silly sound, short musical tune and piano key) is really great so the baby does not get bored.  You have to flip the pages, but the baby eventually gets it and will flip the pages on their own.  This makes it more versatile than the other exersaucers I've seen.4. My baby is teething, so the two butterfly-looking thing are great for her to chew on (though the short one is a little more difficult for her to reach, but the tall one you can bend).  You can chain your baby's favorite teether to it too if it has a ring, but I think you can do that with most exersaucers.5. The two frog looking thing are great too b/c they teach cause-and-effect.6. I think this unit allows more interactive play b/c my daughter can move around the activity center much faster now, so we pretend we're running in front of her for her to catch us, and she loves it.  Sometimes she runs behind the dog thinking she can catch her too =)7. One unintended side benefit we've discovered is that it helps my daughter poop when she's in it, everyday precisely around the same time.  Not sure if it's the standing position or the fact that she's exercising with walking, but it makes her very regular, so mommy's happy.  And if you have an accident, you can take out the seat to wash it which we've done two times already, and the fabric is still fine.  The only complaint I have is that it's a little difficult to remove the fabric because you have to take out the entire seat, which is a little hard b/c certain pts have to line up so you can unlock it, and my husband has to consult the manual every time, but I think this maybe part of the safety feature.I know some parents complained about their baby's feet can't touch the ground even with the lowest setting.  Just a reference pt for your consideration: when we got the unit for my daughter at 5.5 mo (25.5 inches long), she could only touch the floor tiptoed, and she was in the 90th percentile.  So depending on the growth and height of your baby, you may not want to purchase this too early.  But overall, I think this is a great activity center/exersaucer over the traditional kind and would highly recommend it.\n",
      "\n",
      "\n",
      "i bought this when the seat was owned by Sunshine and they only had this model. I've bought 4 more since. it was super safe back then and remains one of the safest car seats. here is the lowdown.SAFETY:The original sunshine was highly recommended on consumer search and remains such as a compact model. straps are thick and comfortable. easy to adjust the 5 point harness and once your kids hit about 5 years old they should be able to get in and out by themselves which is super nice and an appropriate age for that. Padding is a little slim on the side, but even the new models they have come out with only add bulk directly around the kid. I haven't had any accident with these so I can't tell how good they really stand up (and hope i never do have to find out).It is super heavy. much heavier than typical full car seats as you would find in costco or sams club. Yet the extra weight is nice in my opinion. If you think about it from the physics standpoint MV = MV (one of the few things i remembered from physics because it applies to all car accidents)... the heavier you are (mass), the less velocity gets transferred to you (i.e. the slower you fly when you get hit by another car). This carseat as such secures your kid to it, thus increasing the \"weight\" of your kid and as a whole it travels with less velocity if you ever get in an accident. I imagine this translates to less whiplash, less trauma to your child. Same goes for cars by the way. if a normal car get hit by a bus. the people inside the bus may lurch forward, you will go flying out the windshield and probably suffer severe trauma or die. why? because the bus is 10x heavier than you thus transfers 10x more velocity into you.bottomline: heavy = good = safeCOMFORT:this is pretty comfy it seems for my kids. doesn't get too hot. they can fall sleep in it and the sides sort of serve as a pillow, but not that much. my kids don't like the shoulder pads on the inner harness so i remove them. seatbelt and middle connector don't seem to bother them.CLEANING:i've had pee, vomit, other strang substances on these (yeah sound gross but if you are truly a parent you know what i'm talking about). i've taken the whole thing and thrown it in the washer without trouble. kind of a pain to remove as you have to remove the inner harness completely, but worth it for a good clean seat.LATCH/SEATBELT:the LATCH attachment is very nice. easy to hook on and easy to take off. hard part with latch always is tightening it. this is no different.often when traveling i use the seltbelt thru the back method instead. it is so much easier and way easier to tighten. by the way for the seatbelt method you don't necessarily need the extra hook thing which combines top/bottom portions of the seatbelt. it may be slightly more secure to do so but i find little difference.If you've never done this before, basically the way to tighten the seat is put your weight into the seat by shoving your knee into the bottom center. the car seat should sink a bit into the car's seat, then pull the strap or seatbelt as tight as you can. when you let go all should be pretty snug.Yes by the way, you can fit 3 of these in the backseat of a larger SUV/minivan type car. in a smaller car like the CRV or civic nope.TRAVEL:get the travel bag they sell here on amazon. period. that thing is amazing and will protect this seat and make it so much easier to handle and carry. i tried to travel a few times without as i was cheap. not only is it harder and slower to lug this thing around. i found handlers cracked the hard plastic in the base. now with the bag and 5+ other trips, no problems since. i hear the new bag doesn't have a compression strap. consider just buying a cheap one as that was key on the old bag model.as expected it folds very nicely and fits securely into the bag. yeah this is heavy, but it travels very well and keeps your kid safe. i rent the cargo pushkart now at the airport so weight is much less of a concern.DURABILITY:I've had a couple of these for more than 4 years now. I even handed a couple down to my brother who continues to use them. these things seem to last forever. only thing is they get kind filthy. remember though the cover can be washed.BOOSTER VS THIS FOREVER?i thought i would go until my kids were 100 lbs and that was one of the purported benefits.... yeah right. at 40lbs you can switch to booster seats and my oldest seeing other kids on boosters and just using the regular seatbelt finally forced me to cave in.the booster (if you can the basic base model) is sooooo much lighter and easier to use than this. the seatbelt appears snug on it. my kid doesn't take naps anymore so i care less about having the sides to lean against.realize at 5+ years old you will be having a bunch of playdates and being able to move a carseat in and out of cars quickly is HUGE. the radian is a pain in the ass to move around and in/out of cars. it's made to be installed and left there.so if you think one of the reasons you're getting this is to last until 100 lbs i suggest rethinking that. sure it may be safer, but how many accidents are you planning on getting into. i think the most important key in car accident safety is the car you drive, not the seat you are in. they also recommend you being rear-facing until you are a young adult... rear-facing is always going to be safer at any age. let's be realistic though.BOTTOM LINE:solid car seat. excellent for travel. durable and long-lasting. i recommend getting this over the hyper-padded models, but my kids hate being hot and that extra padding seems like a heat trap. your choice though.\n",
      "\n",
      "\n",
      "I am a soon-to-be second time mom.  When my son was born, we were limited with space and chose a Baby Jogger City Mini, which was perfect at the time because it folded up so easily and fit in a corner inconspicuously.  However, I always wanted a full-size stroller with a reversible seat and a bassinet option, so this time around (now that we've moved and have more space), we started hunting for a full-feature stroller.  I will qualify this review with the fact that we were NOT looking for a double stroller because my son barely rides in a stroller anymore, and we were not looking for a light-weight/travel/umbrella stroller.  All of the strollers we looked at ranged in the $300-$900 price range and weighed in at 23-28 lbs.These were the features that were really important to us:  reversible seat, easy fold, bassinet option, large easily-accessible basket, suspension and wheels that can handle grass and some smooth trails, well-made seat that can handle a tall child, good canopy coverage, ability to add a glider board.Seat:  The seat on the City Versa is made with an attractive, high-quality, durable fabric, which also snaps on and off of the frame easily for cleaning (I believe it's machine washable).  The seat is well-structured, with an adjustable footrest, three recline positions, and a huge canopy with two magnetic-closure windows.  The seat is also incredibly easy to reverse and the seat back is 21.5\" high, which will accommodate tall children.  My only minor complaint is that the seat recline mechanism is somewhat \"sticky\" and takes some practice to master, but Baby Jogger's customer service told me that the mechanism needs some time to \"break in\" and that it should get easier to use over time.Fold:  This is what Baby Jogger is truly known for.  The fold is FANTASTIC, as it is on all Baby Joggers.  You just squeeze a trigger on the back of the seat, fold the seat in half (facing either direction!!!), tug the fold strap and lift up, and \"voila!\" the stroller is folded and locked!  The only slight drawback is that the stroller does not stand up on its end when it's folded.  However, you can easily stand it on it's side.  The other awesome thing is that Baby Jogger's glider board also folds up and allows the stroller to fold normally with it attached!Bassinet:  The bassinet is not included, but it's really nice and clips onto the stroller very easily in either direction.  We were able to purchase the bassinet with the stroller (2013 models on sale now) for less than the cost of any other stroller/bassinet combo we looked at.Basket:  The basket is HUGE!  It's also very easy to access, which was really important to me, since I relied on my old Snap N Go's big basket whenever I went grocery shopping when my son was an infant.Wheels & Suspension:  While the wheels that come with the stroller are foam rubber wheels, I know from experience with my old City Mini that they will be fine on cracked sidewalks and moderate grassy surfaces and well-groomed trails.  The stroller has a great 4-wheel suspension, and the push on the stroller is incredibly smooth and easy to maneuver.  PLUS, Baby Jogger is releasing a \"GT\" forever-air wheel replacement kit this spring/summer for the stroller that will provide even more cushion to the ride (supposedly the wheel kit will be around $50).Glider Board:  I'm going to do a separate review for this, but I'll just say that the Baby Jogger glider board is a REALLY nice glider board.  It is so much more robust than I was expecting, and has a lot of ways to adjust it.  Plus, it easily folds up and clips out of the way, while still allowing the stroller to fold normally.  It's a little awkward to fit my tall son on it when the seat is facing forwards, but it works, and everything works perfectly when the seat is facing backwards.For sake of comparison, I also thoroughly tested out all of the following competing models in person: Britax B-Ready, UppaBaby Vista, Mountain Buggy Cosmopolitan, Phil & Ted's Promenade, UppaBaby Cruz, and the Bugaboo Chameleon.  For the price point, there was simply no comparison - the Baby Jogger City Versa won hands-down for features and price.  These were the drawbacks to the other models that I came across compared to the Baby Jogger City Versa:Britax B-Ready:  Simply too big and bulky - it was hard to get this stroller through the aisles at the baby store, let alone aisles in stores that are not made to be stroller-friendly.  This would've been a big contender if we had wanted a double stroller, though.UppaBaby Vista:  The fold was difficult (and only works with the seat facing forward), it was just as wide as the B-Ready, and it's expensive.  Yes, it comes with a lot of extras, including the bassinet, but I'd rather have the ability to opt out of the extras and buy them a la carte, rather than pay for all of it upfront.  While the Vista also offers a huge basket, it has a big bar running right through the middle of it.Mountain Buggy Cosmopolitan:  I REALLY wanted to love this stroller, but the handle bar was non-adjustable and too short for my tall husband, and the seat was WAY too short for our tall family (17\" compared to 21.5\" on the City Versa).  I also didn't like the fabric in the seat, and I was worried about the long-term durability of this stroller - the floor model was very loose and wobbly and seemed like it hadn't held up well.Phil & Ted's Promenade:  This stroller just wasn't practical as a single-child stroller.  It was REALLY long, difficult to maneuver, and felt awkward as a single.UppaBaby Cruz:  This stroller is not nearly as high-quality as the Baby Jogger City Versa or it's own sister, the UppaBaby Vista.  The frame feels flimsy and the wheels would not handle grass or trails well at all.  This stroller really competes with the Bugaboo Bee, not with the other strollers on this list.Bugaboo Chameleon:  First off, it's just way too expensive.  Bugaboo needs to lower it's prices because there are plenty of other strollers offering the same features for a lot less these days.  The frame feels wobbly and flimsy, and the seat has to be removed before you can fold it.All that being said, we are extremely happy with our decision, and I'm glad I put in the effort to thoroughly research my options.  I still have yet to find a truly \"perfect\" stroller, but the Baby Jogger City Versa is very close!  The only minor complaints I have are truly minor and don't outweigh the negatives I found in every other stroller.  I'm not surprised I ended up with yet another Baby Jogger stroller (this is my third!); I also own a 2010 City Mini and a 2011 Summit XC jogger, both of which have been excellent and have held up wonderfully.  They make great, high-quality products, and their customer service is absolutely top-notch!\n",
      "\n",
      "\n",
      "This is a wonderful stroller.  I'm so glad I took a chance and ordered it, sight unseen.I ordered the red version, which is much snazzier in person than on the Amazon picture.It is fairly lightweight - much lighter than our Graco model, but heavier than those cheap little umbrella strollers, nice and sturdy.  But it folds up in an umbrella fashion, so it won't take up too much room in your trunk and could be carried, if necessary.It comes with neat things like a rain cover, sun shade, and cold weather boot.  The rain and shade covers are neatly contained in an attachable pouch and the boot fits easily in the stroller's basket.The canopy has a window, provides lots of shade, and is even partially removable to let the breeze run through on a balmy day.  Coolest of all, it has a built in mesh pouch that doesn't take up any room but still manages to hold everything I need: sunscreen, hand sanitizer, wallet, keys, cell phone, and sunglasses.  It's stretchy mesh, so if you don't have anything it just lies flat against the hood.  But it does have a plastic lining, so it's waterproof!  Also, it zips, so your things can't fall out and aren't accessible to your two year old, either.The basket is large enough for a medium sized diaper bag, although a small bag would fit best, especially if you want to keep the boot in there.The best part is that everything is snazzy.  Everything looks nice, the materials feel great, and it's well designed.  The parts that should be removable/washable are.It's a snap to put together (took just a couple of minutes) and everything locks into place in a smart way.  It's very easy to fold and unfold.  Also, it reclines beautifully and easily, including into a totally upright position.  I became frustrated that my Graco model's most upright position was still too reclined for our one year old.The place where your child's legs hang down is neat.  It is adjustable, so it could stick straight out, hang down, or even flip up for a very little one (maybe to use with the boot?)...  Your kid won't get a weird stroller mark on the underside of their little knees.It has the newer style which I notice most new strollers seem to have where you only have to clip two things in to buckle a baby in.  My Graco model (purchased last year) is such a complicated mess.  You attach two things together on one side, two things together on the other side, then connect each side into the center.  Arg!  My son almost always fussed by the time I'd finished.  Also, he was always sitting on one of the straps, which easily became twisted.  My husband STILL has not figured out how to do this quickly.  :)  So this is a big improvement.It's also comfy!  I can't vouch for that myself, of course.  But my son settles down into it and looks perfectly comfortable.  With the Graco model, he ended up with his legs flung over one side of the tray and if he wasn't tightly belted in he slouched down a lot.A few minor imperfections about the Zooper Twist.The cupholder is a mesh bag attached to the handle.  It works well for a standard water bottle or something, but one of those giant mall-sized beverages might not be so great.  You can easily remedy this by investing in a good quality cup attachment, if that is important to you.This stroller is great for me - I'm 5'5.  It would be nice if the stroller handles were adjustable.This isn't a jogging stroller.  It does offer a nice feature where you can lock the front two wheels so they do not swivel, which makes going over rough surfaces safer and easier to manage.This isn't the kind of stroller that is going to hold everything but the kitchen sink, if you are looking for that kind of stroller.  There isn't a cup and snack tray for your child.  No clock.This is just the greatest stroller and I'm so glad to dump our awful Graco stroller.  Hated. that. thing.  This is snazzy, well designed, handy, lightweight, convenient, and offers everything we need!\n",
      "\n",
      "\n",
      "I researched a lot of pumps and ultimately chose this one based on price and the recommendation of a lactation consultant and the book Baby Bargains.  Aside from the great price, I was sold on the closed system.  Not having so many parts to clean each time has been great.  I debated buying the Purely Yours but decided on the Ultra since it was on sale at the time and the PY was not.First, the pump itself seems to be the same between the PY and the PYU.  It's worked well for me for 3 months and I've been pretty much pumping exclusively since my daughter was 2 weeks old.  The suction is good, the adjustable speed is good--I use Ameda's recommendation to find a suction that works for me and start at high speed to get a letdown then go to a slower speed to get more milk from each suck.  Works great.The Ultra I purchased had a nice tote which looks just like a work bag, 6 bottles and 3 ice packs in a nice cooler which looks like a lunch bag, all pump parts plus an extra set of valves and 3 different sized flanges, a manual hand pump adapter and 2 milk storage bags with an adapter to pump directly into the bags (I don't do this because the bag volume is unreliable but it's nice to have it). I've seen reviews where people got car adapters with theirs which I didn't get--wish I did though.I ended up using the standard size flanges but it was really nice to have the different sizes to test out and get the right fit.  It's also nice having the extra valves because they can tear easily and your pump is worthless without them.  The bottles are of good quality and the nipples from Evenflo and Dr. Brown bottles fit on them.  The tote isn't anything fancy or high quality but it's professional looking and big enough to hold everything that comes with the PYU plus a bunch of breast pads, nipple cream, storage bags, a feeding cover and more.The best part was having the manual adapter included.  It is FAR easier to use the manual pump when we're traveling or going out for the night.  It fits easily in my purse and is super simple to use in the car or a bathroom.  But, it's real value was realized when the pump fell off the table and the tube adapter broke.  Even the breastfeeding specialty stores around me don't carry this as a spare part so I had to use the manual pump for a few days while the spare was being delivered.  It worked great!But that leads me to the one downside of this pump: spare parts are much harder to come by in brick and mortar stores compared to Medela parts and if you break something, the pump is kaput until you get a new part.  Do yourself a favor and get a spare parts kit before anything breaks so you're prepared.  I got a full set (4 valves, 2 diaphragms, 2 tubes and a tube adapter) for $20 on Amazon fulfilled by Mom and Baby store and they were days ahead of their estimated shipping.  Highly recommend.\n",
      "\n",
      "\n",
      "I'm a recent stay-at-home mom with two kids, and I'm SO happy to finally have one bag that meets all of my needs.  For me, this bag functions as a diaper bag + cooler + laptop bag.  I use this bag EVERY day (and I love it so much, I've purchased it as a gift for two other moms-to-be!)  I really like that it has 3 different compartments designed to meet different functions.  I use the insulated cooler compartment every day (since I never go anywhere with my kids without snacks and drinks!)  I was skeptical of the ice packs at first, but discovered on Day 1 that they work great and keep everything ooober cool.  I also like the protective laptop compartment.  It's been nice to have my laptop with me on longer excursions (I use it to entertain my 4 year old on plane trips) or when I have both kids at an organized activity and actually have a few minutes to myself to catch up on emails.  Also, I've used the laptop compartment as extra storage for other items on days I do not want/need my laptop with me.  I use the outer compartment for diapers and wipes, and I use the pockets within that compartment for my purse items.  The shoulder strap is adjustable and very comfortable every way I've worn it.  I wasn't sure I'd like the velcro closure on the outer flap, but have discovered it fastens very securely AND serves 2 critical functions for me.  First, it provides quick and easy access to the inner compartments (since I can get into the bag with just one hand, I can easily grab the extra binkie for the crying baby or sippy cup for the parched preschooler without needing to pull the car over to free both hands.)  Second, I found that the velcro flap allows variability in the bag's \"stuffing capacity\".  The bag's fabric and manufacture appear very high quality and durable and so far, have held up fabulously to the daily wear and tear I put the bag through.  Oh - and how could I forget?!  My very favorite part of this bag is the small outer pocket on the side.  Since this pocket is the ultimate in \"easy access\" I use this for my phone and keys.  I definitely recommend this bag for any mom who ever leaves the house with her kiddos -  Totally worth the money to have a durable (and stylish) bag that meets so many different functions.\n",
      "\n",
      "\n",
      "As a mother of 2 grown children, and grandmother of 7 ...from teenage to newborn ... I will say that I truly wish that this had been invented sooner. I saw this on \"The Doctor's\" TV show and truly thought it sounded spectacular ... and really continuted to feel that way when I read the reviews and continued to research this product. I could hardly wait to get it after talking to our daughter about purchasing it. We only prayed that our newest little one would stay safe until we received it.The one other thing I will say, is as the grandmother ... I have a muscle disease and often have difficulties with some of tasks with my fingers and was concerned the other day when I was watching her for a few hours and needed to change her diapers and knew that meant that I also needed to change the moniter, as at this time the little sleepyhead sleeps 98% of the time so we are leaving it on the vast majority of her little life until she decides there is an more interesting world out here. I called our daughter and asked her how the darn thing worked ... she explained that it was so easy ... and easy it was! I couldn't believe how simple it was to turn off .. take off ... put back on and turn back on ... see that little blinking green light turn back on .. and I was one delighted grandmother. I know that our daughter sleeps a lot better at night! What a magnificent invention. I know that nothing is 100% guaranteed ... but it is fantastic that they have come up with this! I feel ever so blessed that I saw that show ... which I do watch 90% of the time ... and often find interesting tidbits that I can share with my daughter, daughter-in-law, husband or just find interesting myself.I also, find this extremely reasonably priced when valued against the price of one of my grandchildren and we are on a fixed income!\n",
      "\n",
      "\n",
      "I was absolutely thrilled when my FunBites arrived. As I've mentioned before, my daughter is a very, very picky eater. For us, the best way to combat this situation has been to get her involved with her meals. We allow her to stir, pour, and now use her FunBites! Essentially, if there is something in the kitchen that isn't dangerous we encourage her to help. We have found that the more involved she is in making decisions about her meals the more likely she is to actually eat them. FunBites has helped tremendously!I positively love this product and could very easily spend all day talking to you about why or we could talk about different ways use FunBites, etc... BUT... since I'm sure you don't want to read a novel we will just focus on two of my favorite attributes.First, I love that FunBites creates bite sized foods that are perfect for little fingers. I wish I had known about this product when my daughter was smaller. I remember her crying her eyes out because she was hungry and I had to take extra time to cut up each and every morsel of food. I know, I know... safety first... but she was crying and it broke my heart. I swear, a stranger would have sworn I was starving her! If I had a FunBites that would have seriously decreased the time it took to prepare her meals.Second, I love that this little contraption creates fun shaped food. My daughter is intrigued by different shapes and sizes. I love that we are able to display the heart to her as a whole and then she gets to break it down slowly as she selects which piece she wants to nibble next. OH, I have to mention one more thing... it doesn't hurt that FunBites come in bright colors! My little one squealed with delight when she saw the hot pink Heart come out of the box.FunBites is a great tool for children of all ages as it offers them a hands-on approach to meals. FunBites comes in three shapes; Squares, Triangles, and Hearts. My daughter starts Preschool this year and I can't wait to surprise her with fun shaped foods on her first day!Check out my FULL review by visiting us at Griffin's Honey!  [...]\n",
      "\n",
      "\n"
     ]
    }
   ],
   "source": [
    "lowest_probability_indices = pd.DataFrame(indicesTest[:21])\n",
    "for item in pd.merge(lowest_probability_indices, test_data['review'], left_on=0, right_on=test_data.index)['review']:\n",
    "    print(item)\n",
    "    print(\"\\n\")"
   ]
  },
  {
   "cell_type": "markdown",
   "metadata": {},
   "source": [
    "#### Quiz Question: What is the accuracy of the sentiment_model on the test_data? Round your answer to 2 decimal places (e.g. 0.76)."
   ]
  },
  {
   "cell_type": "code",
   "execution_count": 147,
   "metadata": {},
   "outputs": [
    {
     "data": {
      "text/plain": [
       "0.9313110641668867"
      ]
     },
     "execution_count": 147,
     "metadata": {},
     "output_type": "execute_result"
    }
   ],
   "source": [
    "from sklearn.metrics import accuracy_score\n",
    "accuracy_score(list(test_data['sentiment']), list(sentiment_model.predict(test_matrix)))"
   ]
  },
  {
   "cell_type": "markdown",
   "metadata": {},
   "source": [
    "#### Quiz Question: Does a higher accuracy value on the training_data always imply that the classifier is better?\n",
    "Nope, Overfitting"
   ]
  },
  {
   "cell_type": "code",
   "execution_count": null,
   "metadata": {},
   "outputs": [],
   "source": []
  }
 ],
 "metadata": {
  "kernelspec": {
   "display_name": "Python 3",
   "language": "python",
   "name": "python3"
  },
  "language_info": {
   "codemirror_mode": {
    "name": "ipython",
    "version": 3
   },
   "file_extension": ".py",
   "mimetype": "text/x-python",
   "name": "python",
   "nbconvert_exporter": "python",
   "pygments_lexer": "ipython3",
   "version": "3.6.5"
  }
 },
 "nbformat": 4,
 "nbformat_minor": 2
}
