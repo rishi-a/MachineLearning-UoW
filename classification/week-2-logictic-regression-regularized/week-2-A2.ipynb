{
 "cells": [
  {
   "cell_type": "markdown",
   "metadata": {},
   "source": [
    "#### Logistic Regression with L2 regularization\n",
    "\n",
    "The goal of this second notebook is to implement your own logistic regression classifier with L2 regularization. You will do the following:\n",
    "\n",
    " * Extract features from Amazon product reviews.\n",
    " * Convert an SFrame into a NumPy array.\n",
    " * Write a function to compute the derivative of log likelihood function with an L2 penalty with respect to a single coefficient.\n",
    " * Implement gradient ascent with an L2 penalty.\n",
    " * Empirically explore how the L2 penalty can ameliorate overfitting."
   ]
  },
  {
   "cell_type": "code",
   "execution_count": 1,
   "metadata": {},
   "outputs": [],
   "source": [
    "import pandas as pd\n",
    "import numpy as np\n",
    "import matplotlib.pyplot as plt"
   ]
  },
  {
   "cell_type": "markdown",
   "metadata": {},
   "source": [
    "Just like we did previously, we will work with a hand-curated list of important words extracted from the review data. We will also perform 2 simple data transformations:\n",
    "\n",
    "1. Remove punctuation using [Python's built-in](https://docs.python.org/2/library/string.html) string functionality.\n",
    "2. Compute word counts (only for the **important_words**)\n"
   ]
  },
  {
   "cell_type": "code",
   "execution_count": null,
   "metadata": {},
   "outputs": [],
   "source": [
    "products = pd.read_csv('amazon_baby_subset.csv')\n",
    "products = products.fillna({'review':''})  # fill in N/A's in the review column\n",
    "def remove_punctuation(text):\n",
    "    import string\n",
    "    return text.translate(text.maketrans('', '', string.punctuation))\n",
    "\n",
    "products['review_clean'] = products['review'].apply(remove_punctuation)\n",
    "\n",
    "important_words = list(pd.read_json('important_words.json')[0])"
   ]
  },
  {
   "cell_type": "code",
   "execution_count": 3,
   "metadata": {},
   "outputs": [],
   "source": [
    "for word in important_words:\n",
    "    products[word] = products['review_clean'].apply(lambda s : s.split().count(word))"
   ]
  },
  {
   "cell_type": "markdown",
   "metadata": {},
   "source": [
    "#### Train-Validation split"
   ]
  },
  {
   "cell_type": "code",
   "execution_count": 6,
   "metadata": {},
   "outputs": [],
   "source": [
    "# split into train and test\n",
    "# load the given data\n",
    "trainidx = pd.read_json('module-4-assignment-train-idx.json')\n",
    "trainidx[0] = trainidx[0] + 1 \n",
    "validationidx  = pd.read_json('module-4-assignment-validation-idx.json')\n",
    "validationidx[0] = validationidx[0] + 1 \n",
    "\n",
    "train_data = pd.merge(trainidx, products, left_on=0, right_on=products.index)\n",
    "validation_data = pd.merge(validationidx, products, left_on=0, right_on=products.index)"
   ]
  },
  {
   "cell_type": "code",
   "execution_count": 7,
   "metadata": {},
   "outputs": [
    {
     "name": "stdout",
     "output_type": "stream",
     "text": [
      "Training set   : 42361 data points\n",
      "Validation set : 10710 data points\n"
     ]
    }
   ],
   "source": [
    "print('Training set   : %d data points' % len(train_data))\n",
    "print('Validation set : %d data points' % len(validation_data))"
   ]
  },
  {
   "cell_type": "markdown",
   "metadata": {},
   "source": [
    "#### Convert data frame to multi-dimensional array"
   ]
  },
  {
   "cell_type": "code",
   "execution_count": 8,
   "metadata": {},
   "outputs": [],
   "source": [
    "def get_numpy_data(data, features, label):\n",
    "    data['intercept'] = 1\n",
    "    features = ['intercept'] + features\n",
    "    features_df = data[features]\n",
    "    feature_matrix = features_df.to_numpy()\n",
    "    label_series = data[label]\n",
    "    label_array = label_series.to_numpy()\n",
    "    return(feature_matrix, label_array)"
   ]
  },
  {
   "cell_type": "code",
   "execution_count": 9,
   "metadata": {},
   "outputs": [],
   "source": [
    "# Warning: This may take a few minutes...\n",
    "\n",
    "feature_matrix_train, sentiment_train = get_numpy_data(train_data, important_words, 'sentiment')\n",
    "feature_matrix_valid, sentiment_valid = get_numpy_data(validation_data, important_words, 'sentiment') "
   ]
  },
  {
   "cell_type": "markdown",
   "metadata": {},
   "source": [
    "#### Building on logistic regression with no L2 penalty assignment\n",
    "\n",
    "Let us now build on Module 3 assignment. Recall from lecture that the link function for logistic regression can be defined as:\n",
    "\n",
    "$$\n",
    "P(y_i = +1 | \\mathbf{x}_i,\\mathbf{w}) = \\frac{1}{1 + \\exp(-\\mathbf{w}^T h(\\mathbf{x}_i))},\n",
    "$$\n",
    "\n",
    "where the feature vector $h(\\mathbf{x}_i)$ is given by the word counts of **important_words** in the review $\\mathbf{x}_i$. \n",
    "\n",
    "We will use the **same code** as in this past assignment to make probability predictions since this part is not affected by the L2 penalty.  (Only the way in which the coefficients are learned is affected by the addition of a regularization term.)"
   ]
  },
  {
   "cell_type": "code",
   "execution_count": 10,
   "metadata": {},
   "outputs": [],
   "source": [
    "'''\n",
    "produces probablistic estimate for P(y_i = +1 | x_i, w).\n",
    "estimate ranges between 0 and 1.\n",
    "'''\n",
    "def predict_probability(feature_matrix, coefficients):\n",
    "    # Take dot product of feature_matrix and coefficients  \n",
    "    scores = np.dot(feature_matrix, coefficients)\n",
    "    \n",
    "    # Compute P(y_i = +1 | x_i, w) using the link function\n",
    "    predictions = 1/(1+np.exp(-scores))\n",
    "    \n",
    "    # return predictions\n",
    "    return predictions"
   ]
  },
  {
   "cell_type": "markdown",
   "metadata": {},
   "source": [
    "#### Adding L2 Penalty\n",
    "\n",
    "Let us now work on extending logistic regression with L2 regularization. As discussed in the lectures, the L2 regularization is particularly useful in preventing overfitting. In this assignment, we will explore L2 regularization in detail.\n",
    "\n",
    "Recall from lecture and the previous assignment that for logistic regression without an L2 penalty, the derivative of the log likelihood function is:\n",
    "$$\n",
    "\\frac{\\partial\\ell}{\\partial w_j} = \\sum_{i=1}^N h_j(\\mathbf{x}_i)\\left(\\mathbf{1}[y_i = +1] - P(y_i = +1 | \\mathbf{x}_i, \\mathbf{w})\\right)\n",
    "$$\n",
    "\n",
    "**Adding L2 penalty to the derivative** \n",
    "\n",
    "It takes only a small modification to add a L2 penalty. All terms indicated in **red** refer to terms that were added due to an **L2 penalty**.\n",
    "\n",
    "* Recall from the lecture that the link function is still the sigmoid:\n",
    "$$\n",
    "P(y_i = +1 | \\mathbf{x}_i,\\mathbf{w}) = \\frac{1}{1 + \\exp(-\\mathbf{w}^T h(\\mathbf{x}_i))},\n",
    "$$\n",
    "* We add the L2 penalty term to the per-coefficient derivative of log likelihood:\n",
    "$$\n",
    "\\frac{\\partial\\ell}{\\partial w_j} = \\sum_{i=1}^N h_j(\\mathbf{x}_i)\\left(\\mathbf{1}[y_i = +1] - P(y_i = +1 | \\mathbf{x}_i, \\mathbf{w})\\right) \\color{red}{-2\\lambda w_j }\n",
    "$$\n",
    "\n",
    "The **per-coefficient derivative for logistic regression with an L2 penalty** is as follows:\n",
    "$$\n",
    "\\frac{\\partial\\ell}{\\partial w_j} = \\sum_{i=1}^N h_j(\\mathbf{x}_i)\\left(\\mathbf{1}[y_i = +1] - P(y_i = +1 | \\mathbf{x}_i, \\mathbf{w})\\right) \\color{red}{-2\\lambda w_j }\n",
    "$$\n",
    "and for the intercept term, we have\n",
    "$$\n",
    "\\frac{\\partial\\ell}{\\partial w_0} = \\sum_{i=1}^N h_0(\\mathbf{x}_i)\\left(\\mathbf{1}[y_i = +1] - P(y_i = +1 | \\mathbf{x}_i, \\mathbf{w})\\right)\n",
    "$$"
   ]
  },
  {
   "cell_type": "markdown",
   "metadata": {},
   "source": [
    "**Note**: As we did in the Regression course, we do not apply the L2 penalty on the intercept. A large intercept does not necessarily indicate overfitting because the intercept is not associated with any particular feature."
   ]
  },
  {
   "cell_type": "markdown",
   "metadata": {},
   "source": [
    "Write a function that computes the derivative of log likelihood with respect to a single coefficient $w_j$. Unlike its counterpart in the last assignment, the function accepts five arguments:\n",
    " * `errors` vector containing $(\\mathbf{1}[y_i = +1] - P(y_i = +1 | \\mathbf{x}_i, \\mathbf{w}))$ for all $i$\n",
    " * `feature` vector containing $h_j(\\mathbf{x}_i)$  for all $i$\n",
    " * `coefficient` containing the current value of coefficient $w_j$.\n",
    " * `l2_penalty` representing the L2 penalty constant $\\lambda$\n",
    " * `feature_is_constant` telling whether the $j$-th feature is constant or not."
   ]
  },
  {
   "cell_type": "code",
   "execution_count": 11,
   "metadata": {},
   "outputs": [],
   "source": [
    "def feature_derivative_with_L2(errors, feature, coefficient, l2_penalty, feature_is_constant): \n",
    "    # Compute the dot product of errors and feature\n",
    "    derivative = np.dot(errors, feature)\n",
    "\n",
    "    # add L2 penalty term for any feature that isn't the intercept.\n",
    "    if not feature_is_constant: \n",
    "        ## YOUR CODE HERE\n",
    "        derivative -= (2 * l2_penalty * coefficient)\n",
    "        \n",
    "    return derivative"
   ]
  },
  {
   "cell_type": "markdown",
   "metadata": {},
   "source": [
    "**Quiz Question:** In the code above, was the intercept term regularized? <br>\n",
    "    No. "
   ]
  },
  {
   "cell_type": "markdown",
   "metadata": {},
   "source": [
    "To verify the correctness of the gradient ascent algorithm, we provide a function for computing log likelihood (which we recall from the last assignment was a topic detailed in an advanced optional video, and used here for its numerical stability).\n",
    "$$\\ell\\ell(\\mathbf{w}) = \\sum_{i=1}^N \\Big( (\\mathbf{1}[y_i = +1] - 1)\\mathbf{w}^T h(\\mathbf{x}_i) - \\ln\\left(1 + \\exp(-\\mathbf{w}^T h(\\mathbf{x}_i))\\right) \\Big) \\color{red}{-\\lambda\\|\\mathbf{w}\\|_2^2} $$"
   ]
  },
  {
   "cell_type": "code",
   "execution_count": 13,
   "metadata": {},
   "outputs": [],
   "source": [
    "def compute_log_likelihood_with_L2(feature_matrix, sentiment, coefficients, l2_penalty):\n",
    "    indicator = (sentiment==+1)\n",
    "    scores = np.dot(feature_matrix, coefficients)\n",
    "    \n",
    "    lp = np.sum((indicator-1)*scores - np.log(1. + np.exp(-scores))) - l2_penalty*np.sum(coefficients[1:]**2)\n",
    "    \n",
    "    return lp"
   ]
  },
  {
   "cell_type": "markdown",
   "metadata": {},
   "source": [
    "**Quiz Question:** Does the term with L2 regularization increase or decrease $\\ell\\ell(\\mathbf{w})$?<br>\n",
    "Decrease\n"
   ]
  },
  {
   "cell_type": "markdown",
   "metadata": {},
   "source": [
    "The logistic regression function looks almost like the one in the last assignment, with a minor modification to account for the L2 penalty.  Fill in the code below to complete this modification."
   ]
  },
  {
   "cell_type": "code",
   "execution_count": 17,
   "metadata": {},
   "outputs": [],
   "source": [
    "def logistic_regression_with_L2(feature_matrix, sentiment, initial_coefficients, step_size, l2_penalty, max_iter):\n",
    "    coefficients = np.array(initial_coefficients) # make sure it's a numpy array\n",
    "    for itr in range(max_iter):\n",
    "        # Predict P(y_i = +1|x_i,w) using your predict_probability() function\n",
    "        ## YOUR CODE HERE\n",
    "        predictions = predict_probability(feature_matrix, coefficients)\n",
    "        \n",
    "        # Compute indicator value for (y_i = +1)\n",
    "        indicator = (sentiment==+1)\n",
    "        \n",
    "        # Compute the errors as indicator - predictions\n",
    "        errors = indicator - predictions\n",
    "        for j in range(len(coefficients)): # loop over each coefficient\n",
    "            is_intercept = (j == 0)\n",
    "            # Recall that feature_matrix[:,j] is the feature column associated with coefficients[j].\n",
    "            # Compute the derivative for coefficients[j]. Save it in a variable called derivative\n",
    "            ## YOUR CODE HERE\n",
    "            derivative = feature_derivative_with_L2(errors, feature_matrix[:,j], coefficients[j], l2_penalty, is_intercept)\n",
    "            \n",
    "            # add the step size times the derivative to the current coefficient\n",
    "            ## YOUR CODE HERE\n",
    "            coefficients[j] += step_size * derivative\n",
    "        \n",
    "        # Checking whether log likelihood is increasing\n",
    "        if itr <= 15 or (itr <= 100 and itr % 10 == 0) or (itr <= 1000 and itr % 100 == 0) \\\n",
    "        or (itr <= 10000 and itr % 1000 == 0) or itr % 10000 == 0:\n",
    "            lp = compute_log_likelihood_with_L2(feature_matrix, sentiment, coefficients, l2_penalty)\n",
    "            print('iteration %*d: log likelihood of observed labels = %.8f' % \\\n",
    "                (int(np.ceil(np.log10(max_iter))), itr, lp))\n",
    "    return coefficients"
   ]
  },
  {
   "cell_type": "markdown",
   "metadata": {},
   "source": [
    "#### Explore effects of L2 regularization\n",
    "\n",
    "Now that we have written up all the pieces needed for regularized logistic regression, let's explore the benefits of using **L2 regularization** in analyzing sentiment for product reviews. **As iterations pass, the log likelihood should increase**.\n",
    "\n",
    "Below, we train models with increasing amounts of regularization, starting with no L2 penalty, which is equivalent to our previous logistic regression implementation."
   ]
  },
  {
   "cell_type": "code",
   "execution_count": 18,
   "metadata": {},
   "outputs": [
    {
     "name": "stdout",
     "output_type": "stream",
     "text": [
      "iteration   0: log likelihood of observed labels = -29182.04653002\n",
      "iteration   1: log likelihood of observed labels = -29008.78655137\n",
      "iteration   2: log likelihood of observed labels = -28841.96694138\n",
      "iteration   3: log likelihood of observed labels = -28681.09005251\n",
      "iteration   4: log likelihood of observed labels = -28525.76087961\n",
      "iteration   5: log likelihood of observed labels = -28375.65056499\n",
      "iteration   6: log likelihood of observed labels = -28230.47445606\n",
      "iteration   7: log likelihood of observed labels = -28089.97888759\n",
      "iteration   8: log likelihood of observed labels = -27953.93315450\n",
      "iteration   9: log likelihood of observed labels = -27822.12455392\n",
      "iteration  10: log likelihood of observed labels = -27694.35523509\n",
      "iteration  11: log likelihood of observed labels = -27570.44011299\n",
      "iteration  12: log likelihood of observed labels = -27450.20541072\n",
      "iteration  13: log likelihood of observed labels = -27333.48757765\n",
      "iteration  14: log likelihood of observed labels = -27220.13243711\n",
      "iteration  15: log likelihood of observed labels = -27109.99447937\n",
      "iteration  20: log likelihood of observed labels = -26603.00451278\n",
      "iteration  30: log likelihood of observed labels = -25765.78283097\n",
      "iteration  40: log likelihood of observed labels = -25101.18120196\n",
      "iteration  50: log likelihood of observed labels = -24559.10208302\n",
      "iteration  60: log likelihood of observed labels = -24107.23180918\n",
      "iteration  70: log likelihood of observed labels = -23723.83611952\n",
      "iteration  80: log likelihood of observed labels = -23393.76034671\n",
      "iteration  90: log likelihood of observed labels = -23106.10563930\n",
      "iteration 100: log likelihood of observed labels = -22852.82241292\n",
      "iteration 200: log likelihood of observed labels = -21343.05959728\n",
      "iteration 300: log likelihood of observed labels = -20629.08945431\n",
      "iteration 400: log likelihood of observed labels = -20208.32427035\n",
      "iteration 500: log likelihood of observed labels = -19930.89025193\n"
     ]
    }
   ],
   "source": [
    "# run with L2 = 0\n",
    "coefficients_0_penalty = logistic_regression_with_L2(feature_matrix_train, sentiment_train,\n",
    "                                                     initial_coefficients=np.zeros(194),\n",
    "                                                     step_size=5e-6, l2_penalty=0, max_iter=501)"
   ]
  },
  {
   "cell_type": "code",
   "execution_count": 19,
   "metadata": {},
   "outputs": [
    {
     "name": "stdout",
     "output_type": "stream",
     "text": [
      "iteration   0: log likelihood of observed labels = -29182.05017430\n",
      "iteration   1: log likelihood of observed labels = -29008.80782659\n",
      "iteration   2: log likelihood of observed labels = -28842.01876452\n",
      "iteration   3: log likelihood of observed labels = -28681.18440702\n",
      "iteration   4: log likelihood of observed labels = -28525.90891197\n",
      "iteration   5: log likelihood of observed labels = -28375.86265925\n",
      "iteration   6: log likelihood of observed labels = -28230.76029564\n",
      "iteration   7: log likelihood of observed labels = -28090.34750897\n",
      "iteration   8: log likelihood of observed labels = -27954.39299539\n",
      "iteration   9: log likelihood of observed labels = -27822.68349718\n",
      "iteration  10: log likelihood of observed labels = -27695.02064896\n",
      "iteration  11: log likelihood of observed labels = -27571.21888812\n",
      "iteration  12: log likelihood of observed labels = -27451.10399431\n",
      "iteration  13: log likelihood of observed labels = -27334.51200486\n",
      "iteration  14: log likelihood of observed labels = -27221.28836008\n",
      "iteration  15: log likelihood of observed labels = -27111.28719383\n",
      "iteration  20: log likelihood of observed labels = -26605.04976476\n",
      "iteration  30: log likelihood of observed labels = -25769.58190852\n",
      "iteration  40: log likelihood of observed labels = -25106.93427761\n",
      "iteration  50: log likelihood of observed labels = -24566.91520613\n",
      "iteration  60: log likelihood of observed labels = -24117.15705860\n",
      "iteration  70: log likelihood of observed labels = -23735.89322091\n",
      "iteration  80: log likelihood of observed labels = -23407.94897909\n",
      "iteration  90: log likelihood of observed labels = -23122.41277290\n",
      "iteration 100: log likelihood of observed labels = -22871.22685622\n",
      "iteration 200: log likelihood of observed labels = -21380.71799951\n",
      "iteration 300: log likelihood of observed labels = -20682.91828767\n",
      "iteration 400: log likelihood of observed labels = -20275.88404033\n",
      "iteration 500: log likelihood of observed labels = -20010.28730178\n"
     ]
    }
   ],
   "source": [
    "# run with L2 = 4\n",
    "coefficients_4_penalty = logistic_regression_with_L2(feature_matrix_train, sentiment_train,\n",
    "                                                      initial_coefficients=np.zeros(194),\n",
    "                                                      step_size=5e-6, l2_penalty=4, max_iter=501)"
   ]
  },
  {
   "cell_type": "code",
   "execution_count": 20,
   "metadata": {},
   "outputs": [
    {
     "name": "stdout",
     "output_type": "stream",
     "text": [
      "iteration   0: log likelihood of observed labels = -29182.05564074\n",
      "iteration   1: log likelihood of observed labels = -29008.83973726\n",
      "iteration   2: log likelihood of observed labels = -28842.09648879\n",
      "iteration   3: log likelihood of observed labels = -28681.32591036\n",
      "iteration   4: log likelihood of observed labels = -28526.13090124\n",
      "iteration   5: log likelihood of observed labels = -28376.18069486\n",
      "iteration   6: log likelihood of observed labels = -28231.18888443\n",
      "iteration   7: log likelihood of observed labels = -28090.90018510\n",
      "iteration   8: log likelihood of observed labels = -27955.08239284\n",
      "iteration   9: log likelihood of observed labels = -27823.52141577\n",
      "iteration  10: log likelihood of observed labels = -27696.01811490\n",
      "iteration  11: log likelihood of observed labels = -27572.38620978\n",
      "iteration  12: log likelihood of observed labels = -27452.45081352\n",
      "iteration  13: log likelihood of observed labels = -27336.04734422\n",
      "iteration  14: log likelihood of observed labels = -27223.02066652\n",
      "iteration  15: log likelihood of observed labels = -27113.22437872\n",
      "iteration  20: log likelihood of observed labels = -26608.11370103\n",
      "iteration  30: log likelihood of observed labels = -25775.26971460\n",
      "iteration  40: log likelihood of observed labels = -25115.54233147\n",
      "iteration  50: log likelihood of observed labels = -24578.59865379\n",
      "iteration  60: log likelihood of observed labels = -24131.99014930\n",
      "iteration  70: log likelihood of observed labels = -23753.90178000\n",
      "iteration  80: log likelihood of observed labels = -23429.12888800\n",
      "iteration  90: log likelihood of observed labels = -23146.74098361\n",
      "iteration 100: log likelihood of observed labels = -22898.66821297\n",
      "iteration 200: log likelihood of observed labels = -21436.55372529\n",
      "iteration 300: log likelihood of observed labels = -20762.30253535\n",
      "iteration 400: log likelihood of observed labels = -20375.00568940\n",
      "iteration 500: log likelihood of observed labels = -20126.20004289\n"
     ]
    }
   ],
   "source": [
    "# run with L2 = 10\n",
    "coefficients_10_penalty = logistic_regression_with_L2(feature_matrix_train, sentiment_train,\n",
    "                                                      initial_coefficients=np.zeros(194),\n",
    "                                                      step_size=5e-6, l2_penalty=10, max_iter=501)"
   ]
  },
  {
   "cell_type": "code",
   "execution_count": 21,
   "metadata": {},
   "outputs": [
    {
     "name": "stdout",
     "output_type": "stream",
     "text": [
      "iteration   0: log likelihood of observed labels = -29182.13763721\n",
      "iteration   1: log likelihood of observed labels = -29009.31808750\n",
      "iteration   2: log likelihood of observed labels = -28843.26084991\n",
      "iteration   3: log likelihood of observed labels = -28683.44437276\n",
      "iteration   4: log likelihood of observed labels = -28529.45222226\n",
      "iteration   5: log likelihood of observed labels = -28380.93602883\n",
      "iteration   6: log likelihood of observed labels = -28237.59321891\n",
      "iteration   7: log likelihood of observed labels = -28099.15359196\n",
      "iteration   8: log likelihood of observed labels = -27965.37114987\n",
      "iteration   9: log likelihood of observed labels = -27836.01902765\n",
      "iteration  10: log likelihood of observed labels = -27710.88624923\n",
      "iteration  11: log likelihood of observed labels = -27589.77555770\n",
      "iteration  12: log likelihood of observed labels = -27472.50188187\n",
      "iteration  13: log likelihood of observed labels = -27358.89118473\n",
      "iteration  14: log likelihood of observed labels = -27248.77954710\n",
      "iteration  15: log likelihood of observed labels = -27142.01240148\n",
      "iteration  20: log likelihood of observed labels = -26653.51058742\n",
      "iteration  30: log likelihood of observed labels = -25859.05257421\n",
      "iteration  40: log likelihood of observed labels = -25241.61825185\n",
      "iteration  50: log likelihood of observed labels = -24748.75765828\n",
      "iteration  60: log likelihood of observed labels = -24346.82520058\n",
      "iteration  70: log likelihood of observed labels = -24013.30218408\n",
      "iteration  80: log likelihood of observed labels = -23732.55994445\n",
      "iteration  90: log likelihood of observed labels = -23493.40981807\n",
      "iteration 100: log likelihood of observed labels = -23287.62580802\n",
      "iteration 200: log likelihood of observed labels = -22189.05779050\n",
      "iteration 300: log likelihood of observed labels = -21784.20658259\n",
      "iteration 400: log likelihood of observed labels = -21598.85736716\n",
      "iteration 500: log likelihood of observed labels = -21504.11023616\n"
     ]
    }
   ],
   "source": [
    "# run with L2 = 1e2\n",
    "coefficients_1e2_penalty = logistic_regression_with_L2(feature_matrix_train, sentiment_train,\n",
    "                                                       initial_coefficients=np.zeros(194),\n",
    "                                                       step_size=5e-6, l2_penalty=1e2, max_iter=501)\n"
   ]
  },
  {
   "cell_type": "code",
   "execution_count": 22,
   "metadata": {},
   "outputs": [
    {
     "name": "stdout",
     "output_type": "stream",
     "text": [
      "iteration   0: log likelihood of observed labels = -29182.95760195\n",
      "iteration   1: log likelihood of observed labels = -29014.06971291\n",
      "iteration   2: log likelihood of observed labels = -28854.75063942\n",
      "iteration   3: log likelihood of observed labels = -28704.21271555\n",
      "iteration   4: log likelihood of observed labels = -28561.80226691\n",
      "iteration   5: log likelihood of observed labels = -28426.95666884\n",
      "iteration   6: log likelihood of observed labels = -28299.17846938\n",
      "iteration   7: log likelihood of observed labels = -28178.01954846\n",
      "iteration   8: log likelihood of observed labels = -28063.07115641\n",
      "iteration   9: log likelihood of observed labels = -27953.95739732\n",
      "iteration  10: log likelihood of observed labels = -27850.33074308\n",
      "iteration  11: log likelihood of observed labels = -27751.86876128\n",
      "iteration  12: log likelihood of observed labels = -27658.27158677\n",
      "iteration  13: log likelihood of observed labels = -27569.25986636\n",
      "iteration  14: log likelihood of observed labels = -27484.57301987\n",
      "iteration  15: log likelihood of observed labels = -27403.96772564\n",
      "iteration  20: log likelihood of observed labels = -27054.69743518\n",
      "iteration  30: log likelihood of observed labels = -26559.24887135\n",
      "iteration  40: log likelihood of observed labels = -26241.08496913\n",
      "iteration  50: log likelihood of observed labels = -26031.82644747\n",
      "iteration  60: log likelihood of observed labels = -25891.55772242\n",
      "iteration  70: log likelihood of observed labels = -25796.07412233\n",
      "iteration  80: log likelihood of observed labels = -25730.24318541\n",
      "iteration  90: log likelihood of observed labels = -25684.36700119\n",
      "iteration 100: log likelihood of observed labels = -25652.10260933\n",
      "iteration 200: log likelihood of observed labels = -25573.27697255\n",
      "iteration 300: log likelihood of observed labels = -25569.60389797\n",
      "iteration 400: log likelihood of observed labels = -25569.37933959\n",
      "iteration 500: log likelihood of observed labels = -25569.36339721\n"
     ]
    }
   ],
   "source": [
    "# run with L2 = 1e3\n",
    "coefficients_1e3_penalty = logistic_regression_with_L2(feature_matrix_train, sentiment_train,\n",
    "                                                       initial_coefficients=np.zeros(194),\n",
    "                                                       step_size=5e-6, l2_penalty=1e3, max_iter=501)"
   ]
  },
  {
   "cell_type": "code",
   "execution_count": 23,
   "metadata": {},
   "outputs": [
    {
     "name": "stdout",
     "output_type": "stream",
     "text": [
      "iteration   0: log likelihood of observed labels = -29273.15372377\n",
      "iteration   1: log likelihood of observed labels = -29273.01282940\n",
      "iteration   2: log likelihood of observed labels = -29272.96275046\n",
      "iteration   3: log likelihood of observed labels = -29272.91938970\n",
      "iteration   4: log likelihood of observed labels = -29272.88020801\n",
      "iteration   5: log likelihood of observed labels = -29272.84473061\n",
      "iteration   6: log likelihood of observed labels = -29272.81260420\n",
      "iteration   7: log likelihood of observed labels = -29272.78351215\n",
      "iteration   8: log likelihood of observed labels = -29272.75716785\n",
      "iteration   9: log likelihood of observed labels = -29272.73331176\n",
      "iteration  10: log likelihood of observed labels = -29272.71170889\n",
      "iteration  11: log likelihood of observed labels = -29272.69214641\n",
      "iteration  12: log likelihood of observed labels = -29272.67443160\n",
      "iteration  13: log likelihood of observed labels = -29272.65838996\n",
      "iteration  14: log likelihood of observed labels = -29272.64386346\n",
      "iteration  15: log likelihood of observed labels = -29272.63070898\n",
      "iteration  20: log likelihood of observed labels = -29272.58138628\n",
      "iteration  30: log likelihood of observed labels = -29272.53306427\n",
      "iteration  40: log likelihood of observed labels = -29272.51514701\n",
      "iteration  50: log likelihood of observed labels = -29272.50850348\n",
      "iteration  60: log likelihood of observed labels = -29272.50604012\n",
      "iteration  70: log likelihood of observed labels = -29272.50512673\n",
      "iteration  80: log likelihood of observed labels = -29272.50478806\n",
      "iteration  90: log likelihood of observed labels = -29272.50466248\n",
      "iteration 100: log likelihood of observed labels = -29272.50461591\n",
      "iteration 200: log likelihood of observed labels = -29272.50458848\n",
      "iteration 300: log likelihood of observed labels = -29272.50458847\n",
      "iteration 400: log likelihood of observed labels = -29272.50458847\n",
      "iteration 500: log likelihood of observed labels = -29272.50458847\n"
     ]
    }
   ],
   "source": [
    "# run with L2 = 1e5\n",
    "coefficients_1e5_penalty = logistic_regression_with_L2(feature_matrix_train, sentiment_train,\n",
    "                                                       initial_coefficients=np.zeros(194),\n",
    "                                                       step_size=5e-6, l2_penalty=1e5, max_iter=501)"
   ]
  },
  {
   "cell_type": "markdown",
   "metadata": {},
   "source": [
    "#### Compare coefficients\n",
    "\n",
    "We now compare the **coefficients** for each of the models that were trained above. We will create a table of features and learned coefficients associated with each of the different L2 penalty values.\n",
    "\n",
    "Below is a simple helper function that will help us create this table."
   ]
  },
  {
   "cell_type": "code",
   "execution_count": 44,
   "metadata": {},
   "outputs": [],
   "source": [
    "table = pd.DataFrame({'word': ['(intercept)'] + important_words})\n",
    "#table.index = table['word']\n",
    "#del table['word']"
   ]
  },
  {
   "cell_type": "code",
   "execution_count": 45,
   "metadata": {},
   "outputs": [],
   "source": [
    "def add_coefficients_to_table(coefficients, column_name):\n",
    "    table[column_name] = coefficients\n",
    "    return table"
   ]
  },
  {
   "cell_type": "code",
   "execution_count": 46,
   "metadata": {},
   "outputs": [
    {
     "data": {
      "text/html": [
       "<div>\n",
       "<style scoped>\n",
       "    .dataframe tbody tr th:only-of-type {\n",
       "        vertical-align: middle;\n",
       "    }\n",
       "\n",
       "    .dataframe tbody tr th {\n",
       "        vertical-align: top;\n",
       "    }\n",
       "\n",
       "    .dataframe thead th {\n",
       "        text-align: right;\n",
       "    }\n",
       "</style>\n",
       "<table border=\"1\" class=\"dataframe\">\n",
       "  <thead>\n",
       "    <tr style=\"text-align: right;\">\n",
       "      <th></th>\n",
       "      <th>word</th>\n",
       "      <th>coefficients [L2=0]</th>\n",
       "      <th>coefficients [L2=4]</th>\n",
       "      <th>coefficients [L2=10]</th>\n",
       "      <th>coefficients [L2=1e2]</th>\n",
       "      <th>coefficients [L2=1e3]</th>\n",
       "      <th>coefficients [L2=1e5]</th>\n",
       "    </tr>\n",
       "  </thead>\n",
       "  <tbody>\n",
       "    <tr>\n",
       "      <td>0</td>\n",
       "      <td>(intercept)</td>\n",
       "      <td>-0.077525</td>\n",
       "      <td>-0.076863</td>\n",
       "      <td>-0.075882</td>\n",
       "      <td>-0.062802</td>\n",
       "      <td>-0.006665</td>\n",
       "      <td>0.011098</td>\n",
       "    </tr>\n",
       "    <tr>\n",
       "      <td>1</td>\n",
       "      <td>baby</td>\n",
       "      <td>0.063113</td>\n",
       "      <td>0.063048</td>\n",
       "      <td>0.062953</td>\n",
       "      <td>0.061690</td>\n",
       "      <td>0.050830</td>\n",
       "      <td>0.001433</td>\n",
       "    </tr>\n",
       "    <tr>\n",
       "      <td>2</td>\n",
       "      <td>one</td>\n",
       "      <td>0.004630</td>\n",
       "      <td>0.004467</td>\n",
       "      <td>0.004227</td>\n",
       "      <td>0.001157</td>\n",
       "      <td>-0.008866</td>\n",
       "      <td>-0.001708</td>\n",
       "    </tr>\n",
       "    <tr>\n",
       "      <td>3</td>\n",
       "      <td>great</td>\n",
       "      <td>0.800742</td>\n",
       "      <td>0.795994</td>\n",
       "      <td>0.789003</td>\n",
       "      <td>0.700110</td>\n",
       "      <td>0.373961</td>\n",
       "      <td>0.008894</td>\n",
       "    </tr>\n",
       "    <tr>\n",
       "      <td>4</td>\n",
       "      <td>love</td>\n",
       "      <td>1.051008</td>\n",
       "      <td>1.043385</td>\n",
       "      <td>1.032168</td>\n",
       "      <td>0.890561</td>\n",
       "      <td>0.414915</td>\n",
       "      <td>0.008811</td>\n",
       "    </tr>\n",
       "    <tr>\n",
       "      <td>...</td>\n",
       "      <td>...</td>\n",
       "      <td>...</td>\n",
       "      <td>...</td>\n",
       "      <td>...</td>\n",
       "      <td>...</td>\n",
       "      <td>...</td>\n",
       "      <td>...</td>\n",
       "    </tr>\n",
       "    <tr>\n",
       "      <td>189</td>\n",
       "      <td>babies</td>\n",
       "      <td>0.030156</td>\n",
       "      <td>0.029997</td>\n",
       "      <td>0.029763</td>\n",
       "      <td>0.026796</td>\n",
       "      <td>0.014833</td>\n",
       "      <td>0.000249</td>\n",
       "    </tr>\n",
       "    <tr>\n",
       "      <td>190</td>\n",
       "      <td>won</td>\n",
       "      <td>0.003739</td>\n",
       "      <td>0.003700</td>\n",
       "      <td>0.003643</td>\n",
       "      <td>0.002914</td>\n",
       "      <td>0.000862</td>\n",
       "      <td>0.000015</td>\n",
       "    </tr>\n",
       "    <tr>\n",
       "      <td>191</td>\n",
       "      <td>tub</td>\n",
       "      <td>-0.225484</td>\n",
       "      <td>-0.223549</td>\n",
       "      <td>-0.220700</td>\n",
       "      <td>-0.184613</td>\n",
       "      <td>-0.069219</td>\n",
       "      <td>-0.001108</td>\n",
       "    </tr>\n",
       "    <tr>\n",
       "      <td>192</td>\n",
       "      <td>almost</td>\n",
       "      <td>-0.056926</td>\n",
       "      <td>-0.056400</td>\n",
       "      <td>-0.055625</td>\n",
       "      <td>-0.045699</td>\n",
       "      <td>-0.013706</td>\n",
       "      <td>-0.000207</td>\n",
       "    </tr>\n",
       "    <tr>\n",
       "      <td>193</td>\n",
       "      <td>either</td>\n",
       "      <td>-0.220798</td>\n",
       "      <td>-0.218806</td>\n",
       "      <td>-0.215868</td>\n",
       "      <td>-0.178300</td>\n",
       "      <td>-0.058153</td>\n",
       "      <td>-0.000921</td>\n",
       "    </tr>\n",
       "  </tbody>\n",
       "</table>\n",
       "<p>194 rows × 7 columns</p>\n",
       "</div>"
      ],
      "text/plain": [
       "            word  coefficients [L2=0]  coefficients [L2=4]  \\\n",
       "0    (intercept)            -0.077525            -0.076863   \n",
       "1           baby             0.063113             0.063048   \n",
       "2            one             0.004630             0.004467   \n",
       "3          great             0.800742             0.795994   \n",
       "4           love             1.051008             1.043385   \n",
       "..           ...                  ...                  ...   \n",
       "189       babies             0.030156             0.029997   \n",
       "190          won             0.003739             0.003700   \n",
       "191          tub            -0.225484            -0.223549   \n",
       "192       almost            -0.056926            -0.056400   \n",
       "193       either            -0.220798            -0.218806   \n",
       "\n",
       "     coefficients [L2=10]  coefficients [L2=1e2]  coefficients [L2=1e3]  \\\n",
       "0               -0.075882              -0.062802              -0.006665   \n",
       "1                0.062953               0.061690               0.050830   \n",
       "2                0.004227               0.001157              -0.008866   \n",
       "3                0.789003               0.700110               0.373961   \n",
       "4                1.032168               0.890561               0.414915   \n",
       "..                    ...                    ...                    ...   \n",
       "189              0.029763               0.026796               0.014833   \n",
       "190              0.003643               0.002914               0.000862   \n",
       "191             -0.220700              -0.184613              -0.069219   \n",
       "192             -0.055625              -0.045699              -0.013706   \n",
       "193             -0.215868              -0.178300              -0.058153   \n",
       "\n",
       "     coefficients [L2=1e5]  \n",
       "0                 0.011098  \n",
       "1                 0.001433  \n",
       "2                -0.001708  \n",
       "3                 0.008894  \n",
       "4                 0.008811  \n",
       "..                     ...  \n",
       "189               0.000249  \n",
       "190               0.000015  \n",
       "191              -0.001108  \n",
       "192              -0.000207  \n",
       "193              -0.000921  \n",
       "\n",
       "[194 rows x 7 columns]"
      ]
     },
     "execution_count": 46,
     "metadata": {},
     "output_type": "execute_result"
    }
   ],
   "source": [
    "add_coefficients_to_table(coefficients_0_penalty, 'coefficients [L2=0]')\n",
    "add_coefficients_to_table(coefficients_4_penalty, 'coefficients [L2=4]')\n",
    "add_coefficients_to_table(coefficients_10_penalty, 'coefficients [L2=10]')\n",
    "add_coefficients_to_table(coefficients_1e2_penalty, 'coefficients [L2=1e2]')\n",
    "add_coefficients_to_table(coefficients_1e3_penalty, 'coefficients [L2=1e3]')\n",
    "add_coefficients_to_table(coefficients_1e5_penalty, 'coefficients [L2=1e5]')"
   ]
  },
  {
   "cell_type": "markdown",
   "metadata": {},
   "source": [
    "Using **the coefficients trained with L2 penalty 0**, find the 5 most positive words (with largest positive coefficients). Save them to **positive_words**. Similarly, find the 5 most negative words (with largest negative coefficients) and save them to **negative_words**.\n",
    "\n",
    "**Quiz Question**. Which of the following is **not** listed in either **positive_words** or **negative_words**?<br>\n",
    "'quality'"
   ]
  },
  {
   "cell_type": "code",
   "execution_count": 48,
   "metadata": {},
   "outputs": [
    {
     "data": {
      "text/html": [
       "<div>\n",
       "<style scoped>\n",
       "    .dataframe tbody tr th:only-of-type {\n",
       "        vertical-align: middle;\n",
       "    }\n",
       "\n",
       "    .dataframe tbody tr th {\n",
       "        vertical-align: top;\n",
       "    }\n",
       "\n",
       "    .dataframe thead th {\n",
       "        text-align: right;\n",
       "    }\n",
       "</style>\n",
       "<table border=\"1\" class=\"dataframe\">\n",
       "  <thead>\n",
       "    <tr style=\"text-align: right;\">\n",
       "      <th></th>\n",
       "      <th>word</th>\n",
       "      <th>coefficients [L2=0]</th>\n",
       "    </tr>\n",
       "  </thead>\n",
       "  <tbody>\n",
       "    <tr>\n",
       "      <td>23</td>\n",
       "      <td>loves</td>\n",
       "      <td>1.055057</td>\n",
       "    </tr>\n",
       "    <tr>\n",
       "      <td>4</td>\n",
       "      <td>love</td>\n",
       "      <td>1.051008</td>\n",
       "    </tr>\n",
       "    <tr>\n",
       "      <td>8</td>\n",
       "      <td>easy</td>\n",
       "      <td>0.990595</td>\n",
       "    </tr>\n",
       "    <tr>\n",
       "      <td>34</td>\n",
       "      <td>perfect</td>\n",
       "      <td>0.848576</td>\n",
       "    </tr>\n",
       "    <tr>\n",
       "      <td>3</td>\n",
       "      <td>great</td>\n",
       "      <td>0.800742</td>\n",
       "    </tr>\n",
       "  </tbody>\n",
       "</table>\n",
       "</div>"
      ],
      "text/plain": [
       "       word  coefficients [L2=0]\n",
       "23    loves             1.055057\n",
       "4      love             1.051008\n",
       "8      easy             0.990595\n",
       "34  perfect             0.848576\n",
       "3     great             0.800742"
      ]
     },
     "execution_count": 48,
     "metadata": {},
     "output_type": "execute_result"
    }
   ],
   "source": [
    "table[['word','coefficients [L2=0]']].sort_values('coefficients [L2=0]', ascending = False)[0:5]"
   ]
  },
  {
   "cell_type": "code",
   "execution_count": 49,
   "metadata": {},
   "outputs": [
    {
     "name": "stdout",
     "output_type": "stream",
     "text": [
      "23      loves\n",
      "4        love\n",
      "8        easy\n",
      "34    perfect\n",
      "3       great\n",
      "Name: word, dtype: object\n"
     ]
    }
   ],
   "source": [
    "positive_words = table.sort_values('coefficients [L2=0]', ascending = False)[0:5]['word']\n",
    "print(positive_words)"
   ]
  },
  {
   "cell_type": "code",
   "execution_count": 50,
   "metadata": {},
   "outputs": [
    {
     "name": "stdout",
     "output_type": "stream",
     "text": [
      "106    disappointed\n",
      "114          return\n",
      "97            money\n",
      "113           waste\n",
      "169        returned\n",
      "Name: word, dtype: object\n"
     ]
    }
   ],
   "source": [
    "negative_words = table.sort_values('coefficients [L2=0]', ascending = True)[0:5]['word']\n",
    "print(negative_words)"
   ]
  },
  {
   "cell_type": "markdown",
   "metadata": {},
   "source": [
    "Let us observe the effect of increasing L2 penalty on the 10 words just selected. We provide you with a utility function to  plot the coefficient path."
   ]
  },
  {
   "cell_type": "code",
   "execution_count": 57,
   "metadata": {},
   "outputs": [],
   "source": [
    "import matplotlib.pyplot as plt\n",
    "%matplotlib inline\n",
    "plt.rcParams['figure.figsize'] = 10, 6\n",
    "\n",
    "def make_coefficient_plot(table, positive_words, negative_words, l2_penalty_list):\n",
    "    cmap_positive = plt.get_cmap('Reds')\n",
    "    cmap_negative = plt.get_cmap('Blues')\n",
    "    \n",
    "    xx = l2_penalty_list\n",
    "    plt.plot(xx, [0.]*len(xx), '--', lw=1, color='k')\n",
    "    \n",
    "    \n",
    "    table_positive_words = table.loc[table['word'].isin(positive_words)]\n",
    "    table_negative_words = table.loc[table['word'].isin(negative_words)]\n",
    "    \n",
    "    del table_positive_words['word']\n",
    "    del table_negative_words['word']\n",
    "    \n",
    "    for i in range(len(positive_words)):\n",
    "        color = cmap_positive(0.8*((i+1)/(len(positive_words)*1.2)+0.15))\n",
    "        plt.plot(xx, table_positive_words[i:i+1].to_numpy().flatten(),\n",
    "                 '-', label=positive_words[i], linewidth=4.0, color=color)\n",
    "        \n",
    "    for i in range(len(negative_words)):\n",
    "        color = cmap_negative(0.8*((i+1)/(len(negative_words)*1.2)+0.15))\n",
    "        plt.plot(xx, table_negative_words[i:i+1].to_numpy().flatten(),\n",
    "                 '-', label=negative_words[i], linewidth=4.0, color=color)\n",
    "        \n",
    "    plt.legend(loc='best', ncol=3, prop={'size':16}, columnspacing=0.5)\n",
    "    plt.axis([1, 1e5, -1, 2])\n",
    "    plt.title('Coefficient path')\n",
    "    plt.xlabel('L2 penalty ($\\lambda$)')\n",
    "    plt.ylabel('Coefficient value')\n",
    "    plt.xscale('log')\n",
    "    plt.rcParams.update({'font.size': 18})\n",
    "    plt.tight_layout()"
   ]
  },
  {
   "cell_type": "code",
   "execution_count": 59,
   "metadata": {},
   "outputs": [],
   "source": [
    "#make_coefficient_plot(table, positive_words, negative_words, l2_penalty_list=[0, 4, 10, 1e2, 1e3, 1e5])\n",
    "#getting error in the above plot so not printing the plot"
   ]
  },
  {
   "cell_type": "markdown",
   "metadata": {},
   "source": [
    "**Quiz Question**: (True/False) All coefficients consistently get smaller in size as the L2 penalty is increased.<br>\n",
    "True\n",
    "\n",
    "**Quiz Question**: (True/False) The relative order of coefficients is preserved as the L2 penalty is increased. (For example, if the coefficient for 'cat' was more positive than that for 'dog', this remains true as the L2 penalty increases.)<br>\n",
    "False"
   ]
  },
  {
   "cell_type": "markdown",
   "metadata": {},
   "source": [
    "#### Measuring accuracy\n",
    "\n",
    "Now, let us compute the accuracy of the classifier model. Recall that the accuracy is given by\n",
    "\n",
    "$$\n",
    "\\mbox{accuracy} = \\frac{\\mbox{# correctly classified data points}}{\\mbox{# total data points}}\n",
    "$$\n",
    "\n",
    "\n",
    "Recall from lecture that that the class prediction is calculated using\n",
    "$$\n",
    "\\hat{y}_i = \n",
    "\\left\\{\n",
    "\\begin{array}{ll}\n",
    "      +1 & h(\\mathbf{x}_i)^T\\mathbf{w} > 0 \\\\\n",
    "      -1 & h(\\mathbf{x}_i)^T\\mathbf{w} \\leq 0 \\\\\n",
    "\\end{array} \n",
    "\\right.\n",
    "$$\n",
    "\n",
    "**Note**: It is important to know that the model prediction code doesn't change even with the addition of an L2 penalty. The only thing that changes is the estimated coefficients used in this prediction.\n",
    "\n",
    "Based on the above, we will use the same code that was used in Module 3 assignment."
   ]
  },
  {
   "cell_type": "code",
   "execution_count": 61,
   "metadata": {},
   "outputs": [],
   "source": [
    "def get_classification_accuracy(feature_matrix, sentiment, coefficients):\n",
    "    scores = np.dot(feature_matrix, coefficients)\n",
    "    apply_threshold = np.vectorize(lambda x: 1. if x > 0  else -1.)\n",
    "    predictions = apply_threshold(scores)\n",
    "    \n",
    "    num_correct = (predictions == sentiment).sum()\n",
    "    accuracy = num_correct / len(feature_matrix)    \n",
    "    return accuracy"
   ]
  },
  {
   "cell_type": "markdown",
   "metadata": {},
   "source": [
    "Below, we compare the accuracy on the **training data** and **validation data** for all the models that were trained in this assignment.  We first calculate the accuracy values and then build a simple report summarizing the performance for the various models."
   ]
  },
  {
   "cell_type": "code",
   "execution_count": 62,
   "metadata": {},
   "outputs": [],
   "source": [
    "train_accuracy = {}\n",
    "train_accuracy[0]   = get_classification_accuracy(feature_matrix_train, sentiment_train, coefficients_0_penalty)\n",
    "train_accuracy[4]   = get_classification_accuracy(feature_matrix_train, sentiment_train, coefficients_4_penalty)\n",
    "train_accuracy[10]  = get_classification_accuracy(feature_matrix_train, sentiment_train, coefficients_10_penalty)\n",
    "train_accuracy[1e2] = get_classification_accuracy(feature_matrix_train, sentiment_train, coefficients_1e2_penalty)\n",
    "train_accuracy[1e3] = get_classification_accuracy(feature_matrix_train, sentiment_train, coefficients_1e3_penalty)\n",
    "train_accuracy[1e5] = get_classification_accuracy(feature_matrix_train, sentiment_train, coefficients_1e5_penalty)\n",
    "\n",
    "validation_accuracy = {}\n",
    "validation_accuracy[0]   = get_classification_accuracy(feature_matrix_valid, sentiment_valid, coefficients_0_penalty)\n",
    "validation_accuracy[4]   = get_classification_accuracy(feature_matrix_valid, sentiment_valid, coefficients_4_penalty)\n",
    "validation_accuracy[10]  = get_classification_accuracy(feature_matrix_valid, sentiment_valid, coefficients_10_penalty)\n",
    "validation_accuracy[1e2] = get_classification_accuracy(feature_matrix_valid, sentiment_valid, coefficients_1e2_penalty)\n",
    "validation_accuracy[1e3] = get_classification_accuracy(feature_matrix_valid, sentiment_valid, coefficients_1e3_penalty)\n",
    "validation_accuracy[1e5] = get_classification_accuracy(feature_matrix_valid, sentiment_valid, coefficients_1e5_penalty)"
   ]
  },
  {
   "cell_type": "code",
   "execution_count": 63,
   "metadata": {},
   "outputs": [
    {
     "name": "stdout",
     "output_type": "stream",
     "text": [
      "L2 penalty = 0\n",
      "train accuracy = 0.7857227166497486, validation_accuracy = 0.7840336134453781\n",
      "--------------------------------------------------------------------------------\n",
      "L2 penalty = 4\n",
      "train accuracy = 0.7856282901725644, validation_accuracy = 0.7839402427637722\n",
      "--------------------------------------------------------------------------------\n",
      "L2 penalty = 10\n",
      "train accuracy = 0.7853686173603078, validation_accuracy = 0.7838468720821662\n",
      "--------------------------------------------------------------------------------\n",
      "L2 penalty = 100\n",
      "train accuracy = 0.7838814003446566, validation_accuracy = 0.7830065359477124\n",
      "--------------------------------------------------------------------------------\n",
      "L2 penalty = 1000\n",
      "train accuracy = 0.7731876018035457, validation_accuracy = 0.7743230625583567\n",
      "--------------------------------------------------------------------------------\n",
      "L2 penalty = 100000\n",
      "train accuracy = 0.6775335804159486, validation_accuracy = 0.6814192343604109\n",
      "--------------------------------------------------------------------------------\n"
     ]
    }
   ],
   "source": [
    "# Build a simple report\n",
    "for key in sorted(validation_accuracy.keys()):\n",
    "    print(\"L2 penalty = %g\" % key)\n",
    "    print(\"train accuracy = %s, validation_accuracy = %s\" % (train_accuracy[key], validation_accuracy[key]))\n",
    "    print(\"--------------------------------------------------------------------------------\")"
   ]
  },
  {
   "cell_type": "code",
   "execution_count": 64,
   "metadata": {},
   "outputs": [
    {
     "data": {
      "text/plain": [
       "<function matplotlib.pyplot.tight_layout(pad=1.08, h_pad=None, w_pad=None, rect=None)>"
      ]
     },
     "execution_count": 64,
     "metadata": {},
     "output_type": "execute_result"
    },
    {
     "data": {
      "image/png": "[encoded data removed]",
      "text/plain": [
       "<Figure size 720x432 with 1 Axes>"
      ]
     },
     "metadata": {},
     "output_type": "display_data"
    }
   ],
   "source": [
    "# Optional. Plot accuracy on training and validation sets over choice of L2 penalty.\n",
    "import matplotlib.pyplot as plt\n",
    "%matplotlib inline\n",
    "plt.rcParams['figure.figsize'] = 10, 6\n",
    "\n",
    "sorted_list = sorted(train_accuracy.items(), key=lambda x:x[0])\n",
    "plt.plot([p[0] for p in sorted_list], [p[1] for p in sorted_list], 'bo-', linewidth=4, label='Training accuracy')\n",
    "sorted_list = sorted(validation_accuracy.items(), key=lambda x:x[0])\n",
    "plt.plot([p[0] for p in sorted_list], [p[1] for p in sorted_list], 'ro-', linewidth=4, label='Validation accuracy')\n",
    "plt.xscale('symlog')\n",
    "plt.axis([0, 1e3, 0.78, 0.786])\n",
    "plt.legend(loc='lower left')\n",
    "plt.rcParams.update({'font.size': 18})\n",
    "plt.tight_layout"
   ]
  },
  {
   "cell_type": "markdown",
   "metadata": {},
   "source": [
    "* **Quiz Question**: Which model (L2 = 0, 4, 10, 100, 1e3, 1e5) has the **highest** accuracy on the **training** data?<br> L2 = 0\n",
    "* **Quiz Question**: Which model (L2 = 0, 4, 10, 100, 1e3, 1e5) has the **highest** accuracy on the **validation** data? <br> L2 = 0\n",
    "* **Quiz Question**: Does the **highest** accuracy on the **training** data imply that the model is the best one?<br>\n",
    "No\n"
   ]
  },
  {
   "cell_type": "code",
   "execution_count": null,
   "metadata": {},
   "outputs": [],
   "source": []
  }
 ],
 "metadata": {
  "kernelspec": {
   "display_name": "Python 3",
   "language": "python",
   "name": "python3"
  },
  "language_info": {
   "codemirror_mode": {
    "name": "ipython",
    "version": 3
   },
   "file_extension": ".py",
   "mimetype": "text/x-python",
   "name": "python",
   "nbconvert_exporter": "python",
   "pygments_lexer": "ipython3",
   "version": "3.6.5"
  }
 },
 "nbformat": 4,
 "nbformat_minor": 2
}
